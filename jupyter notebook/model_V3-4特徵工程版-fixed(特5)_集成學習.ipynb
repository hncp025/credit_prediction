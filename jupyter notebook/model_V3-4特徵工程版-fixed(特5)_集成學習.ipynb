{
 "cells": [
  {
   "cell_type": "markdown",
   "metadata": {},
   "source": [
    "# 初始設定和資料"
   ]
  },
  {
   "cell_type": "markdown",
   "metadata": {},
   "source": [
    "## 載入套件.資料集"
   ]
  },
  {
   "cell_type": "code",
   "execution_count": 1,
   "metadata": {},
   "outputs": [],
   "source": [
    "# 載入常用套件、設定\n",
    "\n",
    "import numpy as np\n",
    "import pandas as pd\n",
    "import matplotlib as mpl\n",
    "import matplotlib.pyplot as plt\n",
    "import seaborn as sns\n",
    "import random\n",
    "from sklearn.metrics import accuracy_score,f1_score,precision_score, recall_score, classification_report, confusion_matrix\n",
    "from sklearn.model_selection import train_test_split, GridSearchCV, RandomizedSearchCV, cross_val_score, KFold, RepeatedStratifiedKFold\n",
    "from sklearn.linear_model import LogisticRegression\n",
    "from sklearn.tree import DecisionTreeClassifier\n",
    "from sklearn.neighbors import KNeighborsClassifier\n",
    "from sklearn.naive_bayes import GaussianNB\n",
    "from sklearn.preprocessing import LabelEncoder\n",
    "from imblearn.over_sampling import RandomOverSampler,SMOTE # pip install imbalanced-learn\n",
    "from imblearn.pipeline import make_pipeline, Pipeline\n",
    "from collections import Counter\n",
    "from xgboost import XGBClassifier\n",
    "from lightgbm import LGBMClassifier  \n",
    "from catboost import CatBoostClassifier\n",
    "from sklearn.ensemble import RandomForestClassifier\n",
    "from sklearn.feature_selection import RFE\n",
    "from sklearn.feature_selection import RFECV\n",
    "import pickle\n",
    "\n",
    "\n",
    "\n",
    "import warnings\n",
    "warnings.filterwarnings(\"ignore\")\n",
    "\n",
    "\n",
    "#pd.set_option('display.max_rows', 60) # 最多顯示60筆\n",
    "#pd.set_option('display.max_columns', 200) # 顯示所有欄位，第2個參數可指定顯示幾個欄位。None是全部顯示\n",
    "\n",
    "\n",
    "plt.rcParams['figure.figsize'] = (10,7) # 自行調整大小\n",
    "#plt.rcParams['font.sans-serif'] = ['Microsoft JhengHei']\n",
    "mpl.rcParams[\"font.sans-serif\"] = [\"SimHei\"] # 使用黑體，中文用\n",
    "mpl.rcParams[\"axes.unicode_minus\"] = False # 可以顯示負號"
   ]
  },
  {
   "cell_type": "code",
   "execution_count": 2,
   "metadata": {},
   "outputs": [
    {
     "data": {
      "text/html": [
       "<div>\n",
       "<style scoped>\n",
       "    .dataframe tbody tr th:only-of-type {\n",
       "        vertical-align: middle;\n",
       "    }\n",
       "\n",
       "    .dataframe tbody tr th {\n",
       "        vertical-align: top;\n",
       "    }\n",
       "\n",
       "    .dataframe thead th {\n",
       "        text-align: right;\n",
       "    }\n",
       "</style>\n",
       "<table border=\"1\" class=\"dataframe\">\n",
       "  <thead>\n",
       "    <tr style=\"text-align: right;\">\n",
       "      <th></th>\n",
       "      <th>TARGET</th>\n",
       "      <th>NAME_CONTRACT_TYPE</th>\n",
       "      <th>CODE_GENDER</th>\n",
       "      <th>FLAG_OWN_REALTY</th>\n",
       "      <th>NAME_TYPE_SUITE</th>\n",
       "      <th>NAME_INCOME_TYPE</th>\n",
       "      <th>NAME_EDUCATION_TYPE</th>\n",
       "      <th>NAME_FAMILY_STATUS</th>\n",
       "      <th>NAME_HOUSING_TYPE</th>\n",
       "      <th>REGION_POPULATION_RELATIVE</th>\n",
       "      <th>...</th>\n",
       "      <th>DEF_60_CNT_SOCIAL_CIRCLE</th>\n",
       "      <th>FLAG_DOCUMENT_3</th>\n",
       "      <th>FLAG_DOCUMENT_6</th>\n",
       "      <th>FLAG_DOCUMENT_8</th>\n",
       "      <th>YEARS_EMP_BINNED</th>\n",
       "      <th>CREDIT_ANNUITY_PRICE</th>\n",
       "      <th>CHANGE_REGISTRATION</th>\n",
       "      <th>BIRTH_EMPLOYED_INCOME</th>\n",
       "      <th>HOUSE_AVG</th>\n",
       "      <th>AMT_REQ</th>\n",
       "    </tr>\n",
       "  </thead>\n",
       "  <tbody>\n",
       "    <tr>\n",
       "      <th>0</th>\n",
       "      <td>1</td>\n",
       "      <td>0.2</td>\n",
       "      <td>0.8</td>\n",
       "      <td>0.8</td>\n",
       "      <td>0.800000</td>\n",
       "      <td>0.8</td>\n",
       "      <td>0.800000</td>\n",
       "      <td>0.716812</td>\n",
       "      <td>0.432112</td>\n",
       "      <td>0.353793</td>\n",
       "      <td>...</td>\n",
       "      <td>0.404782</td>\n",
       "      <td>0.8</td>\n",
       "      <td>0.2</td>\n",
       "      <td>0.2</td>\n",
       "      <td>0.200000</td>\n",
       "      <td>0.65</td>\n",
       "      <td>0.65</td>\n",
       "      <td>0.65</td>\n",
       "      <td>0.8</td>\n",
       "      <td>0.200000</td>\n",
       "    </tr>\n",
       "    <tr>\n",
       "      <th>1</th>\n",
       "      <td>0</td>\n",
       "      <td>0.8</td>\n",
       "      <td>0.8</td>\n",
       "      <td>0.8</td>\n",
       "      <td>0.800000</td>\n",
       "      <td>0.8</td>\n",
       "      <td>0.800000</td>\n",
       "      <td>0.716812</td>\n",
       "      <td>0.432112</td>\n",
       "      <td>0.280938</td>\n",
       "      <td>...</td>\n",
       "      <td>0.200000</td>\n",
       "      <td>0.2</td>\n",
       "      <td>0.2</td>\n",
       "      <td>0.2</td>\n",
       "      <td>0.200000</td>\n",
       "      <td>0.20</td>\n",
       "      <td>0.65</td>\n",
       "      <td>0.35</td>\n",
       "      <td>0.2</td>\n",
       "      <td>0.200000</td>\n",
       "    </tr>\n",
       "    <tr>\n",
       "      <th>2</th>\n",
       "      <td>0</td>\n",
       "      <td>0.2</td>\n",
       "      <td>0.8</td>\n",
       "      <td>0.8</td>\n",
       "      <td>0.752469</td>\n",
       "      <td>0.5</td>\n",
       "      <td>0.800000</td>\n",
       "      <td>0.458406</td>\n",
       "      <td>0.432112</td>\n",
       "      <td>0.494957</td>\n",
       "      <td>...</td>\n",
       "      <td>0.200000</td>\n",
       "      <td>0.8</td>\n",
       "      <td>0.2</td>\n",
       "      <td>0.2</td>\n",
       "      <td>0.200000</td>\n",
       "      <td>0.65</td>\n",
       "      <td>0.65</td>\n",
       "      <td>0.35</td>\n",
       "      <td>0.2</td>\n",
       "      <td>0.200000</td>\n",
       "    </tr>\n",
       "    <tr>\n",
       "      <th>3</th>\n",
       "      <td>0</td>\n",
       "      <td>0.2</td>\n",
       "      <td>0.2</td>\n",
       "      <td>0.8</td>\n",
       "      <td>0.800000</td>\n",
       "      <td>0.3</td>\n",
       "      <td>0.458406</td>\n",
       "      <td>0.458406</td>\n",
       "      <td>0.432112</td>\n",
       "      <td>0.494957</td>\n",
       "      <td>...</td>\n",
       "      <td>0.200000</td>\n",
       "      <td>0.2</td>\n",
       "      <td>0.2</td>\n",
       "      <td>0.8</td>\n",
       "      <td>0.373439</td>\n",
       "      <td>0.35</td>\n",
       "      <td>0.80</td>\n",
       "      <td>0.65</td>\n",
       "      <td>0.2</td>\n",
       "      <td>0.609564</td>\n",
       "    </tr>\n",
       "    <tr>\n",
       "      <th>4</th>\n",
       "      <td>0</td>\n",
       "      <td>0.2</td>\n",
       "      <td>0.8</td>\n",
       "      <td>0.8</td>\n",
       "      <td>0.800000</td>\n",
       "      <td>0.5</td>\n",
       "      <td>0.458406</td>\n",
       "      <td>0.458406</td>\n",
       "      <td>0.432112</td>\n",
       "      <td>0.223529</td>\n",
       "      <td>...</td>\n",
       "      <td>0.200000</td>\n",
       "      <td>0.8</td>\n",
       "      <td>0.2</td>\n",
       "      <td>0.2</td>\n",
       "      <td>0.200000</td>\n",
       "      <td>0.80</td>\n",
       "      <td>0.65</td>\n",
       "      <td>0.50</td>\n",
       "      <td>0.2</td>\n",
       "      <td>0.200000</td>\n",
       "    </tr>\n",
       "  </tbody>\n",
       "</table>\n",
       "<p>5 rows × 36 columns</p>\n",
       "</div>"
      ],
      "text/plain": [
       "   TARGET  NAME_CONTRACT_TYPE  CODE_GENDER  FLAG_OWN_REALTY  NAME_TYPE_SUITE  \\\n",
       "0       1                 0.2          0.8              0.8         0.800000   \n",
       "1       0                 0.8          0.8              0.8         0.800000   \n",
       "2       0                 0.2          0.8              0.8         0.752469   \n",
       "3       0                 0.2          0.2              0.8         0.800000   \n",
       "4       0                 0.2          0.8              0.8         0.800000   \n",
       "\n",
       "   NAME_INCOME_TYPE  NAME_EDUCATION_TYPE  NAME_FAMILY_STATUS  \\\n",
       "0               0.8             0.800000            0.716812   \n",
       "1               0.8             0.800000            0.716812   \n",
       "2               0.5             0.800000            0.458406   \n",
       "3               0.3             0.458406            0.458406   \n",
       "4               0.5             0.458406            0.458406   \n",
       "\n",
       "   NAME_HOUSING_TYPE  REGION_POPULATION_RELATIVE  ...  \\\n",
       "0           0.432112                    0.353793  ...   \n",
       "1           0.432112                    0.280938  ...   \n",
       "2           0.432112                    0.494957  ...   \n",
       "3           0.432112                    0.494957  ...   \n",
       "4           0.432112                    0.223529  ...   \n",
       "\n",
       "   DEF_60_CNT_SOCIAL_CIRCLE  FLAG_DOCUMENT_3  FLAG_DOCUMENT_6  \\\n",
       "0                  0.404782              0.8              0.2   \n",
       "1                  0.200000              0.2              0.2   \n",
       "2                  0.200000              0.8              0.2   \n",
       "3                  0.200000              0.2              0.2   \n",
       "4                  0.200000              0.8              0.2   \n",
       "\n",
       "   FLAG_DOCUMENT_8  YEARS_EMP_BINNED  CREDIT_ANNUITY_PRICE  \\\n",
       "0              0.2          0.200000                  0.65   \n",
       "1              0.2          0.200000                  0.20   \n",
       "2              0.2          0.200000                  0.65   \n",
       "3              0.8          0.373439                  0.35   \n",
       "4              0.2          0.200000                  0.80   \n",
       "\n",
       "   CHANGE_REGISTRATION  BIRTH_EMPLOYED_INCOME  HOUSE_AVG   AMT_REQ  \n",
       "0                 0.65                   0.65        0.8  0.200000  \n",
       "1                 0.65                   0.35        0.2  0.200000  \n",
       "2                 0.65                   0.35        0.2  0.200000  \n",
       "3                 0.80                   0.65        0.2  0.609564  \n",
       "4                 0.65                   0.50        0.2  0.200000  \n",
       "\n",
       "[5 rows x 36 columns]"
      ]
     },
     "execution_count": 2,
     "metadata": {},
     "output_type": "execute_result"
    }
   ],
   "source": [
    "# 載入檔案，看前5筆\n",
    "\n",
    "import pandas as pd\n",
    "\n",
    "#df = pd.read_csv('sample_data/mnist_test.csv') # google colab上傳資料檔，可統一放在sample_data目錄(google內建)\n",
    "#df1 = pd.read_csv('application_data.csv')\n",
    "#df = pd.read_csv('creditV2-2.csv') # 53欄\n",
    "#df = pd.read_csv('creditV3-2.csv')\n",
    "#df = pd.read_csv('creditV3-3.csv') # 3-3為集成版\n",
    "df = pd.read_csv('creditV3-4-fixed.csv') # 3-4為集成版\n",
    "\n",
    "#df2 = df.copy()\n",
    "df.head()"
   ]
  },
  {
   "cell_type": "markdown",
   "metadata": {},
   "source": [
    "## 資料集資訊"
   ]
  },
  {
   "cell_type": "code",
   "execution_count": 3,
   "metadata": {},
   "outputs": [
    {
     "data": {
      "text/plain": [
       "(246106, 36)"
      ]
     },
     "execution_count": 3,
     "metadata": {},
     "output_type": "execute_result"
    }
   ],
   "source": [
    "df.shape"
   ]
  },
  {
   "cell_type": "code",
   "execution_count": 4,
   "metadata": {},
   "outputs": [
    {
     "data": {
      "text/plain": [
       "Index(['TARGET', 'NAME_CONTRACT_TYPE', 'CODE_GENDER', 'FLAG_OWN_REALTY',\n",
       "       'NAME_TYPE_SUITE', 'NAME_INCOME_TYPE', 'NAME_EDUCATION_TYPE',\n",
       "       'NAME_FAMILY_STATUS', 'NAME_HOUSING_TYPE', 'REGION_POPULATION_RELATIVE',\n",
       "       'OWN_CAR_AGE', 'FLAG_WORK_PHONE', 'FLAG_PHONE', 'FLAG_EMAIL',\n",
       "       'OCCUPATION_TYPE', 'CNT_FAM_MEMBERS', 'REGION_RATING_CLIENT',\n",
       "       'WEEKDAY_APPR_PROCESS_START', 'HOUR_APPR_PROCESS_START',\n",
       "       'REG_REGION_NOT_LIVE_REGION', 'REG_REGION_NOT_WORK_REGION',\n",
       "       'ORGANIZATION_TYPE', 'EXT_SOURCE_1', 'EXT_SOURCE_2', 'EXT_SOURCE_3',\n",
       "       'OBS_60_CNT_SOCIAL_CIRCLE', 'DEF_60_CNT_SOCIAL_CIRCLE',\n",
       "       'FLAG_DOCUMENT_3', 'FLAG_DOCUMENT_6', 'FLAG_DOCUMENT_8',\n",
       "       'YEARS_EMP_BINNED', 'CREDIT_ANNUITY_PRICE', 'CHANGE_REGISTRATION',\n",
       "       'BIRTH_EMPLOYED_INCOME', 'HOUSE_AVG', 'AMT_REQ'],\n",
       "      dtype='object')"
      ]
     },
     "execution_count": 4,
     "metadata": {},
     "output_type": "execute_result"
    }
   ],
   "source": [
    "df.columns"
   ]
  },
  {
   "cell_type": "code",
   "execution_count": 5,
   "metadata": {},
   "outputs": [
    {
     "name": "stdout",
     "output_type": "stream",
     "text": [
      "<class 'pandas.core.frame.DataFrame'>\n",
      "RangeIndex: 246106 entries, 0 to 246105\n",
      "Data columns (total 36 columns):\n",
      " #   Column                      Non-Null Count   Dtype  \n",
      "---  ------                      --------------   -----  \n",
      " 0   TARGET                      246106 non-null  int64  \n",
      " 1   NAME_CONTRACT_TYPE          246106 non-null  float64\n",
      " 2   CODE_GENDER                 246106 non-null  float64\n",
      " 3   FLAG_OWN_REALTY             246106 non-null  float64\n",
      " 4   NAME_TYPE_SUITE             246106 non-null  float64\n",
      " 5   NAME_INCOME_TYPE            246106 non-null  float64\n",
      " 6   NAME_EDUCATION_TYPE         246106 non-null  float64\n",
      " 7   NAME_FAMILY_STATUS          246106 non-null  float64\n",
      " 8   NAME_HOUSING_TYPE           246106 non-null  float64\n",
      " 9   REGION_POPULATION_RELATIVE  246106 non-null  float64\n",
      " 10  OWN_CAR_AGE                 246106 non-null  float64\n",
      " 11  FLAG_WORK_PHONE             246106 non-null  float64\n",
      " 12  FLAG_PHONE                  246106 non-null  float64\n",
      " 13  FLAG_EMAIL                  246106 non-null  float64\n",
      " 14  OCCUPATION_TYPE             246106 non-null  float64\n",
      " 15  CNT_FAM_MEMBERS             246106 non-null  float64\n",
      " 16  REGION_RATING_CLIENT        246106 non-null  float64\n",
      " 17  WEEKDAY_APPR_PROCESS_START  246106 non-null  float64\n",
      " 18  HOUR_APPR_PROCESS_START     246106 non-null  float64\n",
      " 19  REG_REGION_NOT_LIVE_REGION  246106 non-null  float64\n",
      " 20  REG_REGION_NOT_WORK_REGION  246106 non-null  float64\n",
      " 21  ORGANIZATION_TYPE           246106 non-null  float64\n",
      " 22  EXT_SOURCE_1                246106 non-null  float64\n",
      " 23  EXT_SOURCE_2                246106 non-null  float64\n",
      " 24  EXT_SOURCE_3                246106 non-null  float64\n",
      " 25  OBS_60_CNT_SOCIAL_CIRCLE    246106 non-null  float64\n",
      " 26  DEF_60_CNT_SOCIAL_CIRCLE    246106 non-null  float64\n",
      " 27  FLAG_DOCUMENT_3             246106 non-null  float64\n",
      " 28  FLAG_DOCUMENT_6             246106 non-null  float64\n",
      " 29  FLAG_DOCUMENT_8             246106 non-null  float64\n",
      " 30  YEARS_EMP_BINNED            246106 non-null  float64\n",
      " 31  CREDIT_ANNUITY_PRICE        246106 non-null  float64\n",
      " 32  CHANGE_REGISTRATION         246106 non-null  float64\n",
      " 33  BIRTH_EMPLOYED_INCOME       246106 non-null  float64\n",
      " 34  HOUSE_AVG                   246106 non-null  float64\n",
      " 35  AMT_REQ                     246106 non-null  float64\n",
      "dtypes: float64(35), int64(1)\n",
      "memory usage: 67.6 MB\n"
     ]
    }
   ],
   "source": [
    "# label coding過後，object已轉成數值欄位\n",
    "\n",
    "df.info()"
   ]
  },
  {
   "cell_type": "markdown",
   "metadata": {},
   "source": [
    "## 類別欄位"
   ]
  },
  {
   "cell_type": "code",
   "execution_count": 6,
   "metadata": {},
   "outputs": [],
   "source": [
    "col_cat = ['NAME_CONTRACT_TYPE', 'CODE_GENDER', 'FLAG_OWN_CAR', 'FLAG_OWN_REALTY',\n",
    "       'NAME_TYPE_SUITE', 'NAME_INCOME_TYPE', 'NAME_EDUCATION_TYPE',\n",
    "       'NAME_FAMILY_STATUS', 'NAME_HOUSING_TYPE', 'OCCUPATION_TYPE',\n",
    "       'WEEKDAY_APPR_PROCESS_START', 'ORGANIZATION_TYPE', 'FONDKAPREMONT_MODE',\n",
    "       'HOUSETYPE_MODE', 'WALLSMATERIAL_MODE', 'EMERGENCYSTATE_MODE']"
   ]
  },
  {
   "cell_type": "code",
   "execution_count": 7,
   "metadata": {},
   "outputs": [
    {
     "data": {
      "text/plain": [
       "0.800000    200950\n",
       "0.413724     31702\n",
       "0.752469      8749\n",
       "0.200000      2541\n",
       "0.696252      1319\n",
       "0.627449       637\n",
       "0.538745       208\n",
       "Name: NAME_TYPE_SUITE, dtype: int64"
      ]
     },
     "execution_count": 7,
     "metadata": {},
     "output_type": "execute_result"
    }
   ],
   "source": [
    "# 檢視類別欄位編碼後的情況\n",
    "\n",
    "df.NAME_TYPE_SUITE.value_counts()"
   ]
  },
  {
   "cell_type": "markdown",
   "metadata": {},
   "source": [
    "## 說明\n",
    "\n",
    "1. DNN、K近鄰、隨機森林3模型整個跑下來約13分鐘\n",
    "2. 上+下採樣對信用違約資料集無影響"
   ]
  },
  {
   "cell_type": "code",
   "execution_count": 8,
   "metadata": {},
   "outputs": [
    {
     "data": {
      "text/plain": [
       "Index(['TARGET', 'NAME_CONTRACT_TYPE', 'CODE_GENDER', 'FLAG_OWN_REALTY',\n",
       "       'NAME_TYPE_SUITE', 'NAME_INCOME_TYPE', 'NAME_EDUCATION_TYPE',\n",
       "       'NAME_FAMILY_STATUS', 'NAME_HOUSING_TYPE', 'REGION_POPULATION_RELATIVE',\n",
       "       'OWN_CAR_AGE', 'FLAG_WORK_PHONE', 'FLAG_PHONE', 'FLAG_EMAIL',\n",
       "       'OCCUPATION_TYPE', 'CNT_FAM_MEMBERS', 'REGION_RATING_CLIENT',\n",
       "       'WEEKDAY_APPR_PROCESS_START', 'HOUR_APPR_PROCESS_START',\n",
       "       'REG_REGION_NOT_LIVE_REGION', 'REG_REGION_NOT_WORK_REGION',\n",
       "       'ORGANIZATION_TYPE', 'EXT_SOURCE_1', 'EXT_SOURCE_2', 'EXT_SOURCE_3',\n",
       "       'OBS_60_CNT_SOCIAL_CIRCLE', 'DEF_60_CNT_SOCIAL_CIRCLE',\n",
       "       'FLAG_DOCUMENT_3', 'FLAG_DOCUMENT_6', 'FLAG_DOCUMENT_8',\n",
       "       'YEARS_EMP_BINNED', 'CREDIT_ANNUITY_PRICE', 'CHANGE_REGISTRATION',\n",
       "       'BIRTH_EMPLOYED_INCOME', 'HOUSE_AVG', 'AMT_REQ'],\n",
       "      dtype='object')"
      ]
     },
     "execution_count": 8,
     "metadata": {},
     "output_type": "execute_result"
    }
   ],
   "source": [
    "df.columns"
   ]
  },
  {
   "cell_type": "code",
   "execution_count": null,
   "metadata": {},
   "outputs": [],
   "source": []
  },
  {
   "cell_type": "markdown",
   "metadata": {},
   "source": [
    "# 分割資料和採樣.特徵工程\n",
    "\n",
    "\n",
    "先切分資料，再對訓練資料採樣:\n",
    "* 重新採樣的目的是讓模型產生鑑別度，而不是讓模型學習錯誤資訊。若先採樣才切分，可能使測試資料偏離了原資料，\n",
    "  導致模型學習到一堆雜訊。"
   ]
  },
  {
   "cell_type": "markdown",
   "metadata": {},
   "source": [
    "## 上採樣"
   ]
  },
  {
   "cell_type": "code",
   "execution_count": 9,
   "metadata": {},
   "outputs": [],
   "source": [
    "X = df.drop(['TARGET'],axis = 1)\n",
    "y = df['TARGET']\n",
    "X_train, X_test, y_train, y_test = train_test_split(X, y, test_size= 0.3, random_state = 0)"
   ]
  },
  {
   "cell_type": "code",
   "execution_count": 10,
   "metadata": {},
   "outputs": [
    {
     "name": "stdout",
     "output_type": "stream",
     "text": [
      "採樣前, 訓練資料集狀況: Counter({0: 158944, 1: 13330})\n",
      "採樣後, 訓練資料集狀況: Counter({0: 158944, 1: 158944})\n"
     ]
    }
   ],
   "source": [
    "print('採樣前, 訓練資料集狀況:',Counter(y_train))\n",
    "oversample = RandomOverSampler(sampling_strategy='minority')\n",
    "\n",
    "X_train1, y_train1 = oversample.fit_resample(X_train, y_train)\n",
    "print('採樣後, 訓練資料集狀況:',Counter(y_train1))"
   ]
  },
  {
   "cell_type": "markdown",
   "metadata": {},
   "source": [
    "## ◎上採樣+下採樣(不用)\n",
    "\n",
    "* 上採樣的效果明顯比下採樣還要來的好，但也存在一個缺點，因為我們會大量的對少數樣本附近進行複製，很可能合成出\n",
    "  `一些雜訊`或是`靠近正樣本`的資料，而下採樣的方法中有一個叫做`Tomek Link`的方法，他的概念是能刪除一些\n",
    "   邊界辨識度不高的樣本，因此我們可以先採用上採樣合成樣本後，再進行下採樣，把一些是雜訊的資料點剃除.\n",
    "* 對本資料集無影響，不用。"
   ]
  },
  {
   "cell_type": "code",
   "execution_count": 10,
   "metadata": {},
   "outputs": [],
   "source": [
    "# from imblearn.under_sampling import TomekLinks\n",
    "\n",
    "# X_train2, y_train2 = TomekLinks().fit_resample(X_train1, y_train1)"
   ]
  },
  {
   "cell_type": "code",
   "execution_count": null,
   "metadata": {},
   "outputs": [],
   "source": []
  },
  {
   "cell_type": "markdown",
   "metadata": {},
   "source": [
    "## ◎SelectKBest特徵工程(已抓圖.停用)"
   ]
  },
  {
   "cell_type": "code",
   "execution_count": 11,
   "metadata": {},
   "outputs": [],
   "source": [
    "# #col = ['TARGET','NAME_EDUCATION_TYPE', 'EXT_SOURCE_3',  'EXT_SOURCE_2','EXT_SOURCE_1']\n",
    "\n",
    "# col = ['TARGET','NAME_EDUCATION_TYPE', 'FLAG_DOCUMENT_3','REGION_RATING_CLIENT', 'EXT_SOURCE_1', \n",
    "#        'EXT_SOURCE_3',  'EXT_SOURCE_2']\n",
    "\n",
    "# df = df[col]\n",
    "\n",
    "# # X = df.drop(['TARGET'],axis = 1)\n",
    "# # y = df['TARGET']\n",
    "# # X_train, X_test, y_train, y_test = train_test_split(X, y, test_size= 0.3, random_state = 0)"
   ]
  },
  {
   "cell_type": "markdown",
   "metadata": {},
   "source": [
    "## ★特徵工程Wrapper法\n",
    "\n"
   ]
  },
  {
   "cell_type": "markdown",
   "metadata": {},
   "source": [
    "### 訓練(sklearn的RFE法)"
   ]
  },
  {
   "cell_type": "code",
   "execution_count": 12,
   "metadata": {},
   "outputs": [
    {
     "data": {
      "text/html": [
       "<div>\n",
       "<style scoped>\n",
       "    .dataframe tbody tr th:only-of-type {\n",
       "        vertical-align: middle;\n",
       "    }\n",
       "\n",
       "    .dataframe tbody tr th {\n",
       "        vertical-align: top;\n",
       "    }\n",
       "\n",
       "    .dataframe thead th {\n",
       "        text-align: right;\n",
       "    }\n",
       "</style>\n",
       "<table border=\"1\" class=\"dataframe\">\n",
       "  <thead>\n",
       "    <tr style=\"text-align: right;\">\n",
       "      <th></th>\n",
       "      <th>Feature</th>\n",
       "      <th>Score</th>\n",
       "    </tr>\n",
       "  </thead>\n",
       "  <tbody>\n",
       "    <tr>\n",
       "      <th>0</th>\n",
       "      <td>NAME_CONTRACT_TYPE</td>\n",
       "      <td>1</td>\n",
       "    </tr>\n",
       "    <tr>\n",
       "      <th>33</th>\n",
       "      <td>HOUSE_AVG</td>\n",
       "      <td>1</td>\n",
       "    </tr>\n",
       "    <tr>\n",
       "      <th>22</th>\n",
       "      <td>EXT_SOURCE_2</td>\n",
       "      <td>1</td>\n",
       "    </tr>\n",
       "    <tr>\n",
       "      <th>23</th>\n",
       "      <td>EXT_SOURCE_3</td>\n",
       "      <td>1</td>\n",
       "    </tr>\n",
       "    <tr>\n",
       "      <th>25</th>\n",
       "      <td>DEF_60_CNT_SOCIAL_CIRCLE</td>\n",
       "      <td>1</td>\n",
       "    </tr>\n",
       "    <tr>\n",
       "      <th>26</th>\n",
       "      <td>FLAG_DOCUMENT_3</td>\n",
       "      <td>1</td>\n",
       "    </tr>\n",
       "    <tr>\n",
       "      <th>11</th>\n",
       "      <td>FLAG_PHONE</td>\n",
       "      <td>1</td>\n",
       "    </tr>\n",
       "    <tr>\n",
       "      <th>29</th>\n",
       "      <td>YEARS_EMP_BINNED</td>\n",
       "      <td>1</td>\n",
       "    </tr>\n",
       "    <tr>\n",
       "      <th>21</th>\n",
       "      <td>EXT_SOURCE_1</td>\n",
       "      <td>1</td>\n",
       "    </tr>\n",
       "    <tr>\n",
       "      <th>9</th>\n",
       "      <td>OWN_CAR_AGE</td>\n",
       "      <td>1</td>\n",
       "    </tr>\n",
       "    <tr>\n",
       "      <th>7</th>\n",
       "      <td>NAME_HOUSING_TYPE</td>\n",
       "      <td>1</td>\n",
       "    </tr>\n",
       "    <tr>\n",
       "      <th>5</th>\n",
       "      <td>NAME_EDUCATION_TYPE</td>\n",
       "      <td>1</td>\n",
       "    </tr>\n",
       "    <tr>\n",
       "      <th>4</th>\n",
       "      <td>NAME_INCOME_TYPE</td>\n",
       "      <td>1</td>\n",
       "    </tr>\n",
       "    <tr>\n",
       "      <th>30</th>\n",
       "      <td>CREDIT_ANNUITY_PRICE</td>\n",
       "      <td>1</td>\n",
       "    </tr>\n",
       "    <tr>\n",
       "      <th>1</th>\n",
       "      <td>CODE_GENDER</td>\n",
       "      <td>1</td>\n",
       "    </tr>\n",
       "    <tr>\n",
       "      <th>8</th>\n",
       "      <td>REGION_POPULATION_RELATIVE</td>\n",
       "      <td>1</td>\n",
       "    </tr>\n",
       "    <tr>\n",
       "      <th>20</th>\n",
       "      <td>ORGANIZATION_TYPE</td>\n",
       "      <td>1</td>\n",
       "    </tr>\n",
       "    <tr>\n",
       "      <th>13</th>\n",
       "      <td>OCCUPATION_TYPE</td>\n",
       "      <td>2</td>\n",
       "    </tr>\n",
       "    <tr>\n",
       "      <th>2</th>\n",
       "      <td>FLAG_OWN_REALTY</td>\n",
       "      <td>3</td>\n",
       "    </tr>\n",
       "    <tr>\n",
       "      <th>6</th>\n",
       "      <td>NAME_FAMILY_STATUS</td>\n",
       "      <td>4</td>\n",
       "    </tr>\n",
       "    <tr>\n",
       "      <th>34</th>\n",
       "      <td>AMT_REQ</td>\n",
       "      <td>5</td>\n",
       "    </tr>\n",
       "    <tr>\n",
       "      <th>15</th>\n",
       "      <td>REGION_RATING_CLIENT</td>\n",
       "      <td>6</td>\n",
       "    </tr>\n",
       "    <tr>\n",
       "      <th>14</th>\n",
       "      <td>CNT_FAM_MEMBERS</td>\n",
       "      <td>7</td>\n",
       "    </tr>\n",
       "    <tr>\n",
       "      <th>17</th>\n",
       "      <td>HOUR_APPR_PROCESS_START</td>\n",
       "      <td>8</td>\n",
       "    </tr>\n",
       "    <tr>\n",
       "      <th>19</th>\n",
       "      <td>REG_REGION_NOT_WORK_REGION</td>\n",
       "      <td>9</td>\n",
       "    </tr>\n",
       "    <tr>\n",
       "      <th>31</th>\n",
       "      <td>CHANGE_REGISTRATION</td>\n",
       "      <td>10</td>\n",
       "    </tr>\n",
       "    <tr>\n",
       "      <th>16</th>\n",
       "      <td>WEEKDAY_APPR_PROCESS_START</td>\n",
       "      <td>11</td>\n",
       "    </tr>\n",
       "    <tr>\n",
       "      <th>24</th>\n",
       "      <td>OBS_60_CNT_SOCIAL_CIRCLE</td>\n",
       "      <td>12</td>\n",
       "    </tr>\n",
       "    <tr>\n",
       "      <th>27</th>\n",
       "      <td>FLAG_DOCUMENT_6</td>\n",
       "      <td>13</td>\n",
       "    </tr>\n",
       "    <tr>\n",
       "      <th>3</th>\n",
       "      <td>NAME_TYPE_SUITE</td>\n",
       "      <td>14</td>\n",
       "    </tr>\n",
       "    <tr>\n",
       "      <th>18</th>\n",
       "      <td>REG_REGION_NOT_LIVE_REGION</td>\n",
       "      <td>15</td>\n",
       "    </tr>\n",
       "    <tr>\n",
       "      <th>28</th>\n",
       "      <td>FLAG_DOCUMENT_8</td>\n",
       "      <td>16</td>\n",
       "    </tr>\n",
       "    <tr>\n",
       "      <th>32</th>\n",
       "      <td>BIRTH_EMPLOYED_INCOME</td>\n",
       "      <td>17</td>\n",
       "    </tr>\n",
       "    <tr>\n",
       "      <th>10</th>\n",
       "      <td>FLAG_WORK_PHONE</td>\n",
       "      <td>18</td>\n",
       "    </tr>\n",
       "    <tr>\n",
       "      <th>12</th>\n",
       "      <td>FLAG_EMAIL</td>\n",
       "      <td>19</td>\n",
       "    </tr>\n",
       "  </tbody>\n",
       "</table>\n",
       "</div>"
      ],
      "text/plain": [
       "                       Feature  Score\n",
       "0           NAME_CONTRACT_TYPE      1\n",
       "33                   HOUSE_AVG      1\n",
       "22                EXT_SOURCE_2      1\n",
       "23                EXT_SOURCE_3      1\n",
       "25    DEF_60_CNT_SOCIAL_CIRCLE      1\n",
       "26             FLAG_DOCUMENT_3      1\n",
       "11                  FLAG_PHONE      1\n",
       "29            YEARS_EMP_BINNED      1\n",
       "21                EXT_SOURCE_1      1\n",
       "9                  OWN_CAR_AGE      1\n",
       "7            NAME_HOUSING_TYPE      1\n",
       "5          NAME_EDUCATION_TYPE      1\n",
       "4             NAME_INCOME_TYPE      1\n",
       "30        CREDIT_ANNUITY_PRICE      1\n",
       "1                  CODE_GENDER      1\n",
       "8   REGION_POPULATION_RELATIVE      1\n",
       "20           ORGANIZATION_TYPE      1\n",
       "13             OCCUPATION_TYPE      2\n",
       "2              FLAG_OWN_REALTY      3\n",
       "6           NAME_FAMILY_STATUS      4\n",
       "34                     AMT_REQ      5\n",
       "15        REGION_RATING_CLIENT      6\n",
       "14             CNT_FAM_MEMBERS      7\n",
       "17     HOUR_APPR_PROCESS_START      8\n",
       "19  REG_REGION_NOT_WORK_REGION      9\n",
       "31         CHANGE_REGISTRATION     10\n",
       "16  WEEKDAY_APPR_PROCESS_START     11\n",
       "24    OBS_60_CNT_SOCIAL_CIRCLE     12\n",
       "27             FLAG_DOCUMENT_6     13\n",
       "3              NAME_TYPE_SUITE     14\n",
       "18  REG_REGION_NOT_LIVE_REGION     15\n",
       "28             FLAG_DOCUMENT_8     16\n",
       "32       BIRTH_EMPLOYED_INCOME     17\n",
       "10             FLAG_WORK_PHONE     18\n",
       "12                  FLAG_EMAIL     19"
      ]
     },
     "execution_count": 12,
     "metadata": {},
     "output_type": "execute_result"
    }
   ],
   "source": [
    "# 各種模型  XGBClassifier(9分), RandomForestClassifie(50分), DecisionTreeClassifier, LGBMClassifier, \n",
    "# 各種模型：KNeighborsClassifier(KNN), MLPClassifier(DNN) , GaussianNB(無法跑)\n",
    "\n",
    "#lin_reg = LogisticRegression(random_state=1) # 改用xgboost試試\n",
    "lin_reg = XGBClassifier(random_state=1) # 9分\n",
    "\n",
    "# 選擇5個變量：可以更改並在模型中檢查其準確性\n",
    "rfe_mod = RFE(lin_reg,step=1)  # RFECV(lin_reg, step=1, cv=5) \n",
    "X = X_train1\n",
    "y = y_train1\n",
    "names=pd.DataFrame(X_train1.columns)\n",
    "myvalues=rfe_mod.fit(X,y) #to fit\n",
    "myvalues.support_  #The mask of selected features.\n",
    "myvalues.ranking_  #特徵排名，使得ranking_ [i]對應於第i個特徵的排名位置。選定的（即最佳估計）特徵被分配為等級1.\n",
    "rankings=pd.DataFrame(myvalues.ranking_) #Make it into data frame\n",
    "\n",
    "scored=pd.concat([names,rankings], axis=1)\n",
    "scored.columns = [\"Feature\", \"Score\"]\n",
    "scored.sort_values(by=['Score']).head(35)"
   ]
  },
  {
   "cell_type": "code",
   "execution_count": 13,
   "metadata": {},
   "outputs": [
    {
     "name": "stdout",
     "output_type": "stream",
     "text": [
      "                       Feature  Rank\n",
      "0           NAME_CONTRACT_TYPE     1\n",
      "1                  CODE_GENDER     1\n",
      "4             NAME_INCOME_TYPE     1\n",
      "5          NAME_EDUCATION_TYPE     1\n",
      "7            NAME_HOUSING_TYPE     1\n",
      "8   REGION_POPULATION_RELATIVE     1\n",
      "9                  OWN_CAR_AGE     1\n",
      "11                  FLAG_PHONE     1\n",
      "20           ORGANIZATION_TYPE     1\n",
      "21                EXT_SOURCE_1     1\n",
      "22                EXT_SOURCE_2     1\n",
      "23                EXT_SOURCE_3     1\n",
      "25    DEF_60_CNT_SOCIAL_CIRCLE     1\n",
      "26             FLAG_DOCUMENT_3     1\n",
      "29            YEARS_EMP_BINNED     1\n",
      "30        CREDIT_ANNUITY_PRICE     1\n",
      "33                   HOUSE_AVG     1\n"
     ]
    },
    {
     "data": {
      "text/plain": [
       "17"
      ]
     },
     "execution_count": 13,
     "metadata": {},
     "output_type": "execute_result"
    }
   ],
   "source": [
    "# 選擇排名1的欄位\n",
    "\n",
    "ranked=pd.concat([names,rankings], axis=1)\n",
    "ranked.columns = [\"Feature\", \"Rank\"]\n",
    "ranked\n",
    "\n",
    "#選擇最重要(Only 1's)\n",
    "most_important = ranked.loc[ranked['Rank'] ==1] \n",
    "print(most_important)\n",
    "most_important['Rank'].count()"
   ]
  },
  {
   "cell_type": "code",
   "execution_count": 14,
   "metadata": {},
   "outputs": [
    {
     "data": {
      "text/plain": [
       "0.7731150593919871"
      ]
     },
     "execution_count": 14,
     "metadata": {},
     "output_type": "execute_result"
    }
   ],
   "source": [
    "# 訓練\n",
    "\n",
    "# Filter:指定變數\n",
    "# lrX = X_train[['Number_pregnant','Glucose_concentration','BMI','Pedigree']]\n",
    "# lrX = X_test[['Number_pregnant','Glucose_concentration','BMI','Pedigree']]\n",
    "# lry = y_test\n",
    "# y_pred=lin_reg.fit(lrX)\n",
    "lin_reg.fit(X_train1,y_train1) \n",
    "lin_reg.score(X_train1,y_train1)\n",
    "#lin_reg.coef_"
   ]
  },
  {
   "cell_type": "markdown",
   "metadata": {},
   "source": [
    "### 測試結果"
   ]
  },
  {
   "cell_type": "code",
   "execution_count": 15,
   "metadata": {},
   "outputs": [],
   "source": [
    "# Filter:指定變數\n",
    "# lrX = X_test[['Number_pregnant','Glucose_concentration','BMI','Pedigree']]\n",
    "# lry = y_test\n",
    "# y_pred=lin_reg.predict(lrX)\n",
    "y_pred=lin_reg.predict(X_test)"
   ]
  },
  {
   "cell_type": "code",
   "execution_count": 16,
   "metadata": {},
   "outputs": [
    {
     "name": "stdout",
     "output_type": "stream",
     "text": [
      "Logic Regression Accuracy: 73.0% \n"
     ]
    }
   ],
   "source": [
    "from sklearn.metrics import accuracy_score\n",
    "# y_pred =rfe_mod.predict(lrX)\n",
    "accuracy = accuracy_score(y_test, y_pred)\n",
    "print(\"Logic Regression Accuracy: %0.1f%% \" % (accuracy * 100))"
   ]
  },
  {
   "cell_type": "code",
   "execution_count": 17,
   "metadata": {},
   "outputs": [
    {
     "name": "stdout",
     "output_type": "stream",
     "text": [
      "              precision    recall  f1-score   support\n",
      "\n",
      "           0       0.96      0.74      0.83     68051\n",
      "           1       0.17      0.61      0.26      5781\n",
      "\n",
      "    accuracy                           0.73     73832\n",
      "   macro avg       0.56      0.67      0.55     73832\n",
      "weighted avg       0.89      0.73      0.79     73832\n",
      "\n"
     ]
    }
   ],
   "source": [
    "from sklearn.metrics import classification_report, confusion_matrix\n",
    "print(classification_report(y_test,y_pred))"
   ]
  },
  {
   "cell_type": "code",
   "execution_count": 18,
   "metadata": {},
   "outputs": [
    {
     "name": "stdout",
     "output_type": "stream",
     "text": [
      "[[50376 17675]\n",
      " [ 2283  3498]]\n"
     ]
    }
   ],
   "source": [
    "print(confusion_matrix(y_test,y_pred))"
   ]
  },
  {
   "cell_type": "code",
   "execution_count": null,
   "metadata": {},
   "outputs": [],
   "source": []
  },
  {
   "cell_type": "markdown",
   "metadata": {},
   "source": [
    "# 抓出模型的分數，選擇特徵最高的欄位"
   ]
  },
  {
   "cell_type": "code",
   "execution_count": 19,
   "metadata": {},
   "outputs": [],
   "source": [
    "# X = df.drop(['TARGET'],axis = 1)\n",
    "# y = df['TARGET']\n",
    "# X_train, X_test, Y_train, Y_test = train_test_split(X, y, test_size= 0.3, random_state = 0)"
   ]
  },
  {
   "cell_type": "code",
   "execution_count": 20,
   "metadata": {},
   "outputs": [],
   "source": [
    "# from sklearn.feature_selection import SelectKBest,mutual_info_classif\n",
    "\n",
    "# bestfeatures = SelectKBest(score_func=mutual_info_classif, k=15)\n",
    "# fit = bestfeatures.fit(X,y,)\n",
    "# dfscores = pd.DataFrame(fit.scores_)\n",
    "# dfcolumns = pd.DataFrame(X.columns) \n",
    "# featureScores = pd.concat([dfcolumns,dfscores],axis=1)\n",
    "# featureScores.columns = ['Feature','Score'] \n",
    "# print(featureScores.nlargest(15,'Score'))\n"
   ]
  },
  {
   "cell_type": "code",
   "execution_count": 21,
   "metadata": {},
   "outputs": [],
   "source": [
    "# df_rst = pd.DataFrame(featureScores.nlargest(15,'Score'))\n",
    "# print(list(df_rst['Feature']))"
   ]
  },
  {
   "cell_type": "code",
   "execution_count": 22,
   "metadata": {},
   "outputs": [
    {
     "data": {
      "text/plain": [
       "Index(['TARGET', 'NAME_CONTRACT_TYPE', 'CODE_GENDER', 'FLAG_OWN_REALTY',\n",
       "       'NAME_TYPE_SUITE', 'NAME_INCOME_TYPE', 'NAME_EDUCATION_TYPE',\n",
       "       'NAME_FAMILY_STATUS', 'NAME_HOUSING_TYPE', 'REGION_POPULATION_RELATIVE',\n",
       "       'OWN_CAR_AGE', 'FLAG_WORK_PHONE', 'FLAG_PHONE', 'FLAG_EMAIL',\n",
       "       'OCCUPATION_TYPE', 'CNT_FAM_MEMBERS', 'REGION_RATING_CLIENT',\n",
       "       'WEEKDAY_APPR_PROCESS_START', 'HOUR_APPR_PROCESS_START',\n",
       "       'REG_REGION_NOT_LIVE_REGION', 'REG_REGION_NOT_WORK_REGION',\n",
       "       'ORGANIZATION_TYPE', 'EXT_SOURCE_1', 'EXT_SOURCE_2', 'EXT_SOURCE_3',\n",
       "       'OBS_60_CNT_SOCIAL_CIRCLE', 'DEF_60_CNT_SOCIAL_CIRCLE',\n",
       "       'FLAG_DOCUMENT_3', 'FLAG_DOCUMENT_6', 'FLAG_DOCUMENT_8',\n",
       "       'YEARS_EMP_BINNED', 'CREDIT_ANNUITY_PRICE', 'CHANGE_REGISTRATION',\n",
       "       'BIRTH_EMPLOYED_INCOME', 'HOUSE_AVG', 'AMT_REQ'],\n",
       "      dtype='object')"
      ]
     },
     "execution_count": 22,
     "metadata": {},
     "output_type": "execute_result"
    }
   ],
   "source": [
    "df.columns"
   ]
  },
  {
   "cell_type": "code",
   "execution_count": null,
   "metadata": {},
   "outputs": [],
   "source": []
  },
  {
   "cell_type": "markdown",
   "metadata": {},
   "source": [
    "# pycaret特徵工程"
   ]
  },
  {
   "cell_type": "markdown",
   "metadata": {},
   "source": [
    "## 設定和建立分類器"
   ]
  },
  {
   "cell_type": "code",
   "execution_count": 23,
   "metadata": {},
   "outputs": [
    {
     "data": {
      "text/html": [
       "<style type=\"text/css\">\n",
       "</style>\n",
       "<table id=\"T_376e3\">\n",
       "  <thead>\n",
       "    <tr>\n",
       "      <th class=\"blank level0\" >&nbsp;</th>\n",
       "      <th id=\"T_376e3_level0_col0\" class=\"col_heading level0 col0\" >Description</th>\n",
       "      <th id=\"T_376e3_level0_col1\" class=\"col_heading level0 col1\" >Value</th>\n",
       "    </tr>\n",
       "  </thead>\n",
       "  <tbody>\n",
       "    <tr>\n",
       "      <th id=\"T_376e3_level0_row0\" class=\"row_heading level0 row0\" >0</th>\n",
       "      <td id=\"T_376e3_row0_col0\" class=\"data row0 col0\" >session_id</td>\n",
       "      <td id=\"T_376e3_row0_col1\" class=\"data row0 col1\" >2422</td>\n",
       "    </tr>\n",
       "    <tr>\n",
       "      <th id=\"T_376e3_level0_row1\" class=\"row_heading level0 row1\" >1</th>\n",
       "      <td id=\"T_376e3_row1_col0\" class=\"data row1 col0\" >Target</td>\n",
       "      <td id=\"T_376e3_row1_col1\" class=\"data row1 col1\" >TARGET</td>\n",
       "    </tr>\n",
       "    <tr>\n",
       "      <th id=\"T_376e3_level0_row2\" class=\"row_heading level0 row2\" >2</th>\n",
       "      <td id=\"T_376e3_row2_col0\" class=\"data row2 col0\" >Target Type</td>\n",
       "      <td id=\"T_376e3_row2_col1\" class=\"data row2 col1\" >Binary</td>\n",
       "    </tr>\n",
       "    <tr>\n",
       "      <th id=\"T_376e3_level0_row3\" class=\"row_heading level0 row3\" >3</th>\n",
       "      <td id=\"T_376e3_row3_col0\" class=\"data row3 col0\" >Label Encoded</td>\n",
       "      <td id=\"T_376e3_row3_col1\" class=\"data row3 col1\" >None</td>\n",
       "    </tr>\n",
       "    <tr>\n",
       "      <th id=\"T_376e3_level0_row4\" class=\"row_heading level0 row4\" >4</th>\n",
       "      <td id=\"T_376e3_row4_col0\" class=\"data row4 col0\" >Original Data</td>\n",
       "      <td id=\"T_376e3_row4_col1\" class=\"data row4 col1\" >(246106, 36)</td>\n",
       "    </tr>\n",
       "    <tr>\n",
       "      <th id=\"T_376e3_level0_row5\" class=\"row_heading level0 row5\" >5</th>\n",
       "      <td id=\"T_376e3_row5_col0\" class=\"data row5 col0\" >Missing Values</td>\n",
       "      <td id=\"T_376e3_row5_col1\" class=\"data row5 col1\" >False</td>\n",
       "    </tr>\n",
       "    <tr>\n",
       "      <th id=\"T_376e3_level0_row6\" class=\"row_heading level0 row6\" >6</th>\n",
       "      <td id=\"T_376e3_row6_col0\" class=\"data row6 col0\" >Numeric Features</td>\n",
       "      <td id=\"T_376e3_row6_col1\" class=\"data row6 col1\" >23</td>\n",
       "    </tr>\n",
       "    <tr>\n",
       "      <th id=\"T_376e3_level0_row7\" class=\"row_heading level0 row7\" >7</th>\n",
       "      <td id=\"T_376e3_row7_col0\" class=\"data row7 col0\" >Categorical Features</td>\n",
       "      <td id=\"T_376e3_row7_col1\" class=\"data row7 col1\" >12</td>\n",
       "    </tr>\n",
       "    <tr>\n",
       "      <th id=\"T_376e3_level0_row8\" class=\"row_heading level0 row8\" >8</th>\n",
       "      <td id=\"T_376e3_row8_col0\" class=\"data row8 col0\" >Transformed Train Set</td>\n",
       "      <td id=\"T_376e3_row8_col1\" class=\"data row8 col1\" >(172274, 35)</td>\n",
       "    </tr>\n",
       "    <tr>\n",
       "      <th id=\"T_376e3_level0_row9\" class=\"row_heading level0 row9\" >9</th>\n",
       "      <td id=\"T_376e3_row9_col0\" class=\"data row9 col0\" >Transformed Test Set</td>\n",
       "      <td id=\"T_376e3_row9_col1\" class=\"data row9 col1\" >(73832, 35)</td>\n",
       "    </tr>\n",
       "    <tr>\n",
       "      <th id=\"T_376e3_level0_row10\" class=\"row_heading level0 row10\" >10</th>\n",
       "      <td id=\"T_376e3_row10_col0\" class=\"data row10 col0\" >Shuffle Train-Test</td>\n",
       "      <td id=\"T_376e3_row10_col1\" class=\"data row10 col1\" >True</td>\n",
       "    </tr>\n",
       "    <tr>\n",
       "      <th id=\"T_376e3_level0_row11\" class=\"row_heading level0 row11\" >11</th>\n",
       "      <td id=\"T_376e3_row11_col0\" class=\"data row11 col0\" >Stratify Train-Test</td>\n",
       "      <td id=\"T_376e3_row11_col1\" class=\"data row11 col1\" >False</td>\n",
       "    </tr>\n",
       "    <tr>\n",
       "      <th id=\"T_376e3_level0_row12\" class=\"row_heading level0 row12\" >12</th>\n",
       "      <td id=\"T_376e3_row12_col0\" class=\"data row12 col0\" >Fold Generator</td>\n",
       "      <td id=\"T_376e3_row12_col1\" class=\"data row12 col1\" >StratifiedKFold</td>\n",
       "    </tr>\n",
       "    <tr>\n",
       "      <th id=\"T_376e3_level0_row13\" class=\"row_heading level0 row13\" >13</th>\n",
       "      <td id=\"T_376e3_row13_col0\" class=\"data row13 col0\" >Fold Number</td>\n",
       "      <td id=\"T_376e3_row13_col1\" class=\"data row13 col1\" >10</td>\n",
       "    </tr>\n",
       "    <tr>\n",
       "      <th id=\"T_376e3_level0_row14\" class=\"row_heading level0 row14\" >14</th>\n",
       "      <td id=\"T_376e3_row14_col0\" class=\"data row14 col0\" >CPU Jobs</td>\n",
       "      <td id=\"T_376e3_row14_col1\" class=\"data row14 col1\" >-1</td>\n",
       "    </tr>\n",
       "    <tr>\n",
       "      <th id=\"T_376e3_level0_row15\" class=\"row_heading level0 row15\" >15</th>\n",
       "      <td id=\"T_376e3_row15_col0\" class=\"data row15 col0\" >Use GPU</td>\n",
       "      <td id=\"T_376e3_row15_col1\" class=\"data row15 col1\" >False</td>\n",
       "    </tr>\n",
       "    <tr>\n",
       "      <th id=\"T_376e3_level0_row16\" class=\"row_heading level0 row16\" >16</th>\n",
       "      <td id=\"T_376e3_row16_col0\" class=\"data row16 col0\" >Log Experiment</td>\n",
       "      <td id=\"T_376e3_row16_col1\" class=\"data row16 col1\" >False</td>\n",
       "    </tr>\n",
       "    <tr>\n",
       "      <th id=\"T_376e3_level0_row17\" class=\"row_heading level0 row17\" >17</th>\n",
       "      <td id=\"T_376e3_row17_col0\" class=\"data row17 col0\" >Experiment Name</td>\n",
       "      <td id=\"T_376e3_row17_col1\" class=\"data row17 col1\" >clf-default-name</td>\n",
       "    </tr>\n",
       "    <tr>\n",
       "      <th id=\"T_376e3_level0_row18\" class=\"row_heading level0 row18\" >18</th>\n",
       "      <td id=\"T_376e3_row18_col0\" class=\"data row18 col0\" >USI</td>\n",
       "      <td id=\"T_376e3_row18_col1\" class=\"data row18 col1\" >bc0e</td>\n",
       "    </tr>\n",
       "    <tr>\n",
       "      <th id=\"T_376e3_level0_row19\" class=\"row_heading level0 row19\" >19</th>\n",
       "      <td id=\"T_376e3_row19_col0\" class=\"data row19 col0\" >Fix Imbalance</td>\n",
       "      <td id=\"T_376e3_row19_col1\" class=\"data row19 col1\" >False</td>\n",
       "    </tr>\n",
       "    <tr>\n",
       "      <th id=\"T_376e3_level0_row20\" class=\"row_heading level0 row20\" >20</th>\n",
       "      <td id=\"T_376e3_row20_col0\" class=\"data row20 col0\" >Fix Imbalance Method</td>\n",
       "      <td id=\"T_376e3_row20_col1\" class=\"data row20 col1\" >SMOTE</td>\n",
       "    </tr>\n",
       "  </tbody>\n",
       "</table>\n"
      ],
      "text/plain": [
       "<pandas.io.formats.style.Styler at 0x8d1c47c0>"
      ]
     },
     "metadata": {},
     "output_type": "display_data"
    }
   ],
   "source": [
    "# 以分類後的35個欄位來做\n",
    "\n",
    "from pycaret.classification import *\n",
    "\n",
    "train1_df =pd.concat([X_train1,y_train1],axis=1)\n",
    "classifier = setup(data=df,preprocess = False, target = 'TARGET',silent=True)"
   ]
  },
  {
   "cell_type": "code",
   "execution_count": 24,
   "metadata": {},
   "outputs": [
    {
     "data": {
      "text/html": [
       "<style type=\"text/css\">\n",
       "#T_55eca_row10_col0, #T_55eca_row10_col1, #T_55eca_row10_col2, #T_55eca_row10_col3, #T_55eca_row10_col4, #T_55eca_row10_col5, #T_55eca_row10_col6 {\n",
       "  background: yellow;\n",
       "}\n",
       "</style>\n",
       "<table id=\"T_55eca\">\n",
       "  <thead>\n",
       "    <tr>\n",
       "      <th class=\"blank level0\" >&nbsp;</th>\n",
       "      <th id=\"T_55eca_level0_col0\" class=\"col_heading level0 col0\" >Accuracy</th>\n",
       "      <th id=\"T_55eca_level0_col1\" class=\"col_heading level0 col1\" >AUC</th>\n",
       "      <th id=\"T_55eca_level0_col2\" class=\"col_heading level0 col2\" >Recall</th>\n",
       "      <th id=\"T_55eca_level0_col3\" class=\"col_heading level0 col3\" >Prec.</th>\n",
       "      <th id=\"T_55eca_level0_col4\" class=\"col_heading level0 col4\" >F1</th>\n",
       "      <th id=\"T_55eca_level0_col5\" class=\"col_heading level0 col5\" >Kappa</th>\n",
       "      <th id=\"T_55eca_level0_col6\" class=\"col_heading level0 col6\" >MCC</th>\n",
       "    </tr>\n",
       "    <tr>\n",
       "      <th class=\"index_name level0\" >Fold</th>\n",
       "      <th class=\"blank col0\" >&nbsp;</th>\n",
       "      <th class=\"blank col1\" >&nbsp;</th>\n",
       "      <th class=\"blank col2\" >&nbsp;</th>\n",
       "      <th class=\"blank col3\" >&nbsp;</th>\n",
       "      <th class=\"blank col4\" >&nbsp;</th>\n",
       "      <th class=\"blank col5\" >&nbsp;</th>\n",
       "      <th class=\"blank col6\" >&nbsp;</th>\n",
       "    </tr>\n",
       "  </thead>\n",
       "  <tbody>\n",
       "    <tr>\n",
       "      <th id=\"T_55eca_level0_row0\" class=\"row_heading level0 row0\" >0</th>\n",
       "      <td id=\"T_55eca_row0_col0\" class=\"data row0 col0\" >0.9220</td>\n",
       "      <td id=\"T_55eca_row0_col1\" class=\"data row0 col1\" >0.7255</td>\n",
       "      <td id=\"T_55eca_row0_col2\" class=\"data row0 col2\" >0.0045</td>\n",
       "      <td id=\"T_55eca_row0_col3\" class=\"data row0 col3\" >0.5000</td>\n",
       "      <td id=\"T_55eca_row0_col4\" class=\"data row0 col4\" >0.0089</td>\n",
       "      <td id=\"T_55eca_row0_col5\" class=\"data row0 col5\" >0.0075</td>\n",
       "      <td id=\"T_55eca_row0_col6\" class=\"data row0 col6\" >0.0416</td>\n",
       "    </tr>\n",
       "    <tr>\n",
       "      <th id=\"T_55eca_level0_row1\" class=\"row_heading level0 row1\" >1</th>\n",
       "      <td id=\"T_55eca_row1_col0\" class=\"data row1 col0\" >0.9221</td>\n",
       "      <td id=\"T_55eca_row1_col1\" class=\"data row1 col1\" >0.7138</td>\n",
       "      <td id=\"T_55eca_row1_col2\" class=\"data row1 col2\" >0.0037</td>\n",
       "      <td id=\"T_55eca_row1_col3\" class=\"data row1 col3\" >0.5556</td>\n",
       "      <td id=\"T_55eca_row1_col4\" class=\"data row1 col4\" >0.0074</td>\n",
       "      <td id=\"T_55eca_row1_col5\" class=\"data row1 col5\" >0.0064</td>\n",
       "      <td id=\"T_55eca_row1_col6\" class=\"data row1 col6\" >0.0407</td>\n",
       "    </tr>\n",
       "    <tr>\n",
       "      <th id=\"T_55eca_level0_row2\" class=\"row_heading level0 row2\" >2</th>\n",
       "      <td id=\"T_55eca_row2_col0\" class=\"data row2 col0\" >0.9225</td>\n",
       "      <td id=\"T_55eca_row2_col1\" class=\"data row2 col1\" >0.7152</td>\n",
       "      <td id=\"T_55eca_row2_col2\" class=\"data row2 col2\" >0.0082</td>\n",
       "      <td id=\"T_55eca_row2_col3\" class=\"data row2 col3\" >0.7333</td>\n",
       "      <td id=\"T_55eca_row2_col4\" class=\"data row2 col4\" >0.0162</td>\n",
       "      <td id=\"T_55eca_row2_col5\" class=\"data row2 col5\" >0.0145</td>\n",
       "      <td id=\"T_55eca_row2_col6\" class=\"data row2 col6\" >0.0722</td>\n",
       "    </tr>\n",
       "    <tr>\n",
       "      <th id=\"T_55eca_level0_row3\" class=\"row_heading level0 row3\" >3</th>\n",
       "      <td id=\"T_55eca_row3_col0\" class=\"data row3 col0\" >0.9219</td>\n",
       "      <td id=\"T_55eca_row3_col1\" class=\"data row3 col1\" >0.7252</td>\n",
       "      <td id=\"T_55eca_row3_col2\" class=\"data row3 col2\" >0.0060</td>\n",
       "      <td id=\"T_55eca_row3_col3\" class=\"data row3 col3\" >0.4211</td>\n",
       "      <td id=\"T_55eca_row3_col4\" class=\"data row3 col4\" >0.0118</td>\n",
       "      <td id=\"T_55eca_row3_col5\" class=\"data row3 col5\" >0.0096</td>\n",
       "      <td id=\"T_55eca_row3_col6\" class=\"data row3 col6\" >0.0425</td>\n",
       "    </tr>\n",
       "    <tr>\n",
       "      <th id=\"T_55eca_level0_row4\" class=\"row_heading level0 row4\" >4</th>\n",
       "      <td id=\"T_55eca_row4_col0\" class=\"data row4 col0\" >0.9222</td>\n",
       "      <td id=\"T_55eca_row4_col1\" class=\"data row4 col1\" >0.7172</td>\n",
       "      <td id=\"T_55eca_row4_col2\" class=\"data row4 col2\" >0.0052</td>\n",
       "      <td id=\"T_55eca_row4_col3\" class=\"data row4 col3\" >0.5385</td>\n",
       "      <td id=\"T_55eca_row4_col4\" class=\"data row4 col4\" >0.0103</td>\n",
       "      <td id=\"T_55eca_row4_col5\" class=\"data row4 col5\" >0.0089</td>\n",
       "      <td id=\"T_55eca_row4_col6\" class=\"data row4 col6\" >0.0472</td>\n",
       "    </tr>\n",
       "    <tr>\n",
       "      <th id=\"T_55eca_level0_row5\" class=\"row_heading level0 row5\" >5</th>\n",
       "      <td id=\"T_55eca_row5_col0\" class=\"data row5 col0\" >0.9223</td>\n",
       "      <td id=\"T_55eca_row5_col1\" class=\"data row5 col1\" >0.7306</td>\n",
       "      <td id=\"T_55eca_row5_col2\" class=\"data row5 col2\" >0.0067</td>\n",
       "      <td id=\"T_55eca_row5_col3\" class=\"data row5 col3\" >0.6429</td>\n",
       "      <td id=\"T_55eca_row5_col4\" class=\"data row5 col4\" >0.0133</td>\n",
       "      <td id=\"T_55eca_row5_col5\" class=\"data row5 col5\" >0.0117</td>\n",
       "      <td id=\"T_55eca_row5_col6\" class=\"data row5 col6\" >0.0601</td>\n",
       "    </tr>\n",
       "    <tr>\n",
       "      <th id=\"T_55eca_level0_row6\" class=\"row_heading level0 row6\" >6</th>\n",
       "      <td id=\"T_55eca_row6_col0\" class=\"data row6 col0\" >0.9223</td>\n",
       "      <td id=\"T_55eca_row6_col1\" class=\"data row6 col1\" >0.7260</td>\n",
       "      <td id=\"T_55eca_row6_col2\" class=\"data row6 col2\" >0.0052</td>\n",
       "      <td id=\"T_55eca_row6_col3\" class=\"data row6 col3\" >0.7000</td>\n",
       "      <td id=\"T_55eca_row6_col4\" class=\"data row6 col4\" >0.0104</td>\n",
       "      <td id=\"T_55eca_row6_col5\" class=\"data row6 col5\" >0.0092</td>\n",
       "      <td id=\"T_55eca_row6_col6\" class=\"data row6 col6\" >0.0559</td>\n",
       "    </tr>\n",
       "    <tr>\n",
       "      <th id=\"T_55eca_level0_row7\" class=\"row_heading level0 row7\" >7</th>\n",
       "      <td id=\"T_55eca_row7_col0\" class=\"data row7 col0\" >0.9220</td>\n",
       "      <td id=\"T_55eca_row7_col1\" class=\"data row7 col1\" >0.7107</td>\n",
       "      <td id=\"T_55eca_row7_col2\" class=\"data row7 col2\" >0.0052</td>\n",
       "      <td id=\"T_55eca_row7_col3\" class=\"data row7 col3\" >0.4375</td>\n",
       "      <td id=\"T_55eca_row7_col4\" class=\"data row7 col4\" >0.0103</td>\n",
       "      <td id=\"T_55eca_row7_col5\" class=\"data row7 col5\" >0.0085</td>\n",
       "      <td id=\"T_55eca_row7_col6\" class=\"data row7 col6\" >0.0409</td>\n",
       "    </tr>\n",
       "    <tr>\n",
       "      <th id=\"T_55eca_level0_row8\" class=\"row_heading level0 row8\" >8</th>\n",
       "      <td id=\"T_55eca_row8_col0\" class=\"data row8 col0\" >0.9223</td>\n",
       "      <td id=\"T_55eca_row8_col1\" class=\"data row8 col1\" >0.7204</td>\n",
       "      <td id=\"T_55eca_row8_col2\" class=\"data row8 col2\" >0.0052</td>\n",
       "      <td id=\"T_55eca_row8_col3\" class=\"data row8 col3\" >0.7000</td>\n",
       "      <td id=\"T_55eca_row8_col4\" class=\"data row8 col4\" >0.0104</td>\n",
       "      <td id=\"T_55eca_row8_col5\" class=\"data row8 col5\" >0.0092</td>\n",
       "      <td id=\"T_55eca_row8_col6\" class=\"data row8 col6\" >0.0559</td>\n",
       "    </tr>\n",
       "    <tr>\n",
       "      <th id=\"T_55eca_level0_row9\" class=\"row_heading level0 row9\" >9</th>\n",
       "      <td id=\"T_55eca_row9_col0\" class=\"data row9 col0\" >0.9220</td>\n",
       "      <td id=\"T_55eca_row9_col1\" class=\"data row9 col1\" >0.7270</td>\n",
       "      <td id=\"T_55eca_row9_col2\" class=\"data row9 col2\" >0.0022</td>\n",
       "      <td id=\"T_55eca_row9_col3\" class=\"data row9 col3\" >0.3750</td>\n",
       "      <td id=\"T_55eca_row9_col4\" class=\"data row9 col4\" >0.0044</td>\n",
       "      <td id=\"T_55eca_row9_col5\" class=\"data row9 col5\" >0.0035</td>\n",
       "      <td id=\"T_55eca_row9_col6\" class=\"data row9 col6\" >0.0239</td>\n",
       "    </tr>\n",
       "    <tr>\n",
       "      <th id=\"T_55eca_level0_row10\" class=\"row_heading level0 row10\" >Mean</th>\n",
       "      <td id=\"T_55eca_row10_col0\" class=\"data row10 col0\" >0.9222</td>\n",
       "      <td id=\"T_55eca_row10_col1\" class=\"data row10 col1\" >0.7212</td>\n",
       "      <td id=\"T_55eca_row10_col2\" class=\"data row10 col2\" >0.0052</td>\n",
       "      <td id=\"T_55eca_row10_col3\" class=\"data row10 col3\" >0.5604</td>\n",
       "      <td id=\"T_55eca_row10_col4\" class=\"data row10 col4\" >0.0103</td>\n",
       "      <td id=\"T_55eca_row10_col5\" class=\"data row10 col5\" >0.0089</td>\n",
       "      <td id=\"T_55eca_row10_col6\" class=\"data row10 col6\" >0.0481</td>\n",
       "    </tr>\n",
       "    <tr>\n",
       "      <th id=\"T_55eca_level0_row11\" class=\"row_heading level0 row11\" >Std</th>\n",
       "      <td id=\"T_55eca_row11_col0\" class=\"data row11 col0\" >0.0002</td>\n",
       "      <td id=\"T_55eca_row11_col1\" class=\"data row11 col1\" >0.0063</td>\n",
       "      <td id=\"T_55eca_row11_col2\" class=\"data row11 col2\" >0.0015</td>\n",
       "      <td id=\"T_55eca_row11_col3\" class=\"data row11 col3\" >0.1220</td>\n",
       "      <td id=\"T_55eca_row11_col4\" class=\"data row11 col4\" >0.0030</td>\n",
       "      <td id=\"T_55eca_row11_col5\" class=\"data row11 col5\" >0.0028</td>\n",
       "      <td id=\"T_55eca_row11_col6\" class=\"data row11 col6\" >0.0127</td>\n",
       "    </tr>\n",
       "  </tbody>\n",
       "</table>\n"
      ],
      "text/plain": [
       "<pandas.io.formats.style.Styler at 0xa861fcd0>"
      ]
     },
     "metadata": {},
     "output_type": "display_data"
    }
   ],
   "source": [
    "dt = create_model('dt')\n",
    "rf = create_model('rf')"
   ]
  },
  {
   "cell_type": "code",
   "execution_count": 25,
   "metadata": {},
   "outputs": [
    {
     "data": {
      "text/html": [
       "<style type=\"text/css\">\n",
       "#T_fc2b6_row10_col0, #T_fc2b6_row10_col1, #T_fc2b6_row10_col2, #T_fc2b6_row10_col3, #T_fc2b6_row10_col4, #T_fc2b6_row10_col5, #T_fc2b6_row10_col6 {\n",
       "  background: yellow;\n",
       "}\n",
       "</style>\n",
       "<table id=\"T_fc2b6\">\n",
       "  <thead>\n",
       "    <tr>\n",
       "      <th class=\"blank level0\" >&nbsp;</th>\n",
       "      <th id=\"T_fc2b6_level0_col0\" class=\"col_heading level0 col0\" >Accuracy</th>\n",
       "      <th id=\"T_fc2b6_level0_col1\" class=\"col_heading level0 col1\" >AUC</th>\n",
       "      <th id=\"T_fc2b6_level0_col2\" class=\"col_heading level0 col2\" >Recall</th>\n",
       "      <th id=\"T_fc2b6_level0_col3\" class=\"col_heading level0 col3\" >Prec.</th>\n",
       "      <th id=\"T_fc2b6_level0_col4\" class=\"col_heading level0 col4\" >F1</th>\n",
       "      <th id=\"T_fc2b6_level0_col5\" class=\"col_heading level0 col5\" >Kappa</th>\n",
       "      <th id=\"T_fc2b6_level0_col6\" class=\"col_heading level0 col6\" >MCC</th>\n",
       "    </tr>\n",
       "    <tr>\n",
       "      <th class=\"index_name level0\" >Fold</th>\n",
       "      <th class=\"blank col0\" >&nbsp;</th>\n",
       "      <th class=\"blank col1\" >&nbsp;</th>\n",
       "      <th class=\"blank col2\" >&nbsp;</th>\n",
       "      <th class=\"blank col3\" >&nbsp;</th>\n",
       "      <th class=\"blank col4\" >&nbsp;</th>\n",
       "      <th class=\"blank col5\" >&nbsp;</th>\n",
       "      <th class=\"blank col6\" >&nbsp;</th>\n",
       "    </tr>\n",
       "  </thead>\n",
       "  <tbody>\n",
       "    <tr>\n",
       "      <th id=\"T_fc2b6_level0_row0\" class=\"row_heading level0 row0\" >0</th>\n",
       "      <td id=\"T_fc2b6_row0_col0\" class=\"data row0 col0\" >0.6729</td>\n",
       "      <td id=\"T_fc2b6_row0_col1\" class=\"data row0 col1\" >0.7392</td>\n",
       "      <td id=\"T_fc2b6_row0_col2\" class=\"data row0 col2\" >0.6850</td>\n",
       "      <td id=\"T_fc2b6_row0_col3\" class=\"data row0 col3\" >0.1500</td>\n",
       "      <td id=\"T_fc2b6_row0_col4\" class=\"data row0 col4\" >0.2462</td>\n",
       "      <td id=\"T_fc2b6_row0_col5\" class=\"data row0 col5\" >0.1356</td>\n",
       "      <td id=\"T_fc2b6_row0_col6\" class=\"data row0 col6\" >0.1999</td>\n",
       "    </tr>\n",
       "    <tr>\n",
       "      <th id=\"T_fc2b6_level0_row1\" class=\"row_heading level0 row1\" >1</th>\n",
       "      <td id=\"T_fc2b6_row1_col0\" class=\"data row1 col0\" >0.6771</td>\n",
       "      <td id=\"T_fc2b6_row1_col1\" class=\"data row1 col1\" >0.7355</td>\n",
       "      <td id=\"T_fc2b6_row1_col2\" class=\"data row1 col2\" >0.6739</td>\n",
       "      <td id=\"T_fc2b6_row1_col3\" class=\"data row1 col3\" >0.1501</td>\n",
       "      <td id=\"T_fc2b6_row1_col4\" class=\"data row1 col4\" >0.2455</td>\n",
       "      <td id=\"T_fc2b6_row1_col5\" class=\"data row1 col5\" >0.1352</td>\n",
       "      <td id=\"T_fc2b6_row1_col6\" class=\"data row1 col6\" >0.1974</td>\n",
       "    </tr>\n",
       "    <tr>\n",
       "      <th id=\"T_fc2b6_level0_row2\" class=\"row_heading level0 row2\" >2</th>\n",
       "      <td id=\"T_fc2b6_row2_col0\" class=\"data row2 col0\" >0.6758</td>\n",
       "      <td id=\"T_fc2b6_row2_col1\" class=\"data row2 col1\" >0.7315</td>\n",
       "      <td id=\"T_fc2b6_row2_col2\" class=\"data row2 col2\" >0.6781</td>\n",
       "      <td id=\"T_fc2b6_row2_col3\" class=\"data row2 col3\" >0.1501</td>\n",
       "      <td id=\"T_fc2b6_row2_col4\" class=\"data row2 col4\" >0.2458</td>\n",
       "      <td id=\"T_fc2b6_row2_col5\" class=\"data row2 col5\" >0.1355</td>\n",
       "      <td id=\"T_fc2b6_row2_col6\" class=\"data row2 col6\" >0.1985</td>\n",
       "    </tr>\n",
       "    <tr>\n",
       "      <th id=\"T_fc2b6_level0_row3\" class=\"row_heading level0 row3\" >3</th>\n",
       "      <td id=\"T_fc2b6_row3_col0\" class=\"data row3 col0\" >0.6781</td>\n",
       "      <td id=\"T_fc2b6_row3_col1\" class=\"data row3 col1\" >0.7387</td>\n",
       "      <td id=\"T_fc2b6_row3_col2\" class=\"data row3 col2\" >0.6788</td>\n",
       "      <td id=\"T_fc2b6_row3_col3\" class=\"data row3 col3\" >0.1512</td>\n",
       "      <td id=\"T_fc2b6_row3_col4\" class=\"data row3 col4\" >0.2473</td>\n",
       "      <td id=\"T_fc2b6_row3_col5\" class=\"data row3 col5\" >0.1374</td>\n",
       "      <td id=\"T_fc2b6_row3_col6\" class=\"data row3 col6\" >0.2005</td>\n",
       "    </tr>\n",
       "    <tr>\n",
       "      <th id=\"T_fc2b6_level0_row4\" class=\"row_heading level0 row4\" >4</th>\n",
       "      <td id=\"T_fc2b6_row4_col0\" class=\"data row4 col0\" >0.6753</td>\n",
       "      <td id=\"T_fc2b6_row4_col1\" class=\"data row4 col1\" >0.7270</td>\n",
       "      <td id=\"T_fc2b6_row4_col2\" class=\"data row4 col2\" >0.6639</td>\n",
       "      <td id=\"T_fc2b6_row4_col3\" class=\"data row4 col3\" >0.1477</td>\n",
       "      <td id=\"T_fc2b6_row4_col4\" class=\"data row4 col4\" >0.2416</td>\n",
       "      <td id=\"T_fc2b6_row4_col5\" class=\"data row4 col5\" >0.1308</td>\n",
       "      <td id=\"T_fc2b6_row4_col6\" class=\"data row4 col6\" >0.1911</td>\n",
       "    </tr>\n",
       "    <tr>\n",
       "      <th id=\"T_fc2b6_level0_row5\" class=\"row_heading level0 row5\" >5</th>\n",
       "      <td id=\"T_fc2b6_row5_col0\" class=\"data row5 col0\" >0.6799</td>\n",
       "      <td id=\"T_fc2b6_row5_col1\" class=\"data row5 col1\" >0.7464</td>\n",
       "      <td id=\"T_fc2b6_row5_col2\" class=\"data row5 col2\" >0.6863</td>\n",
       "      <td id=\"T_fc2b6_row5_col3\" class=\"data row5 col3\" >0.1531</td>\n",
       "      <td id=\"T_fc2b6_row5_col4\" class=\"data row5 col4\" >0.2504</td>\n",
       "      <td id=\"T_fc2b6_row5_col5\" class=\"data row5 col5\" >0.1410</td>\n",
       "      <td id=\"T_fc2b6_row5_col6\" class=\"data row5 col6\" >0.2056</td>\n",
       "    </tr>\n",
       "    <tr>\n",
       "      <th id=\"T_fc2b6_level0_row6\" class=\"row_heading level0 row6\" >6</th>\n",
       "      <td id=\"T_fc2b6_row6_col0\" class=\"data row6 col0\" >0.6756</td>\n",
       "      <td id=\"T_fc2b6_row6_col1\" class=\"data row6 col1\" >0.7333</td>\n",
       "      <td id=\"T_fc2b6_row6_col2\" class=\"data row6 col2\" >0.6617</td>\n",
       "      <td id=\"T_fc2b6_row6_col3\" class=\"data row6 col3\" >0.1474</td>\n",
       "      <td id=\"T_fc2b6_row6_col4\" class=\"data row6 col4\" >0.2411</td>\n",
       "      <td id=\"T_fc2b6_row6_col5\" class=\"data row6 col5\" >0.1303</td>\n",
       "      <td id=\"T_fc2b6_row6_col6\" class=\"data row6 col6\" >0.1902</td>\n",
       "    </tr>\n",
       "    <tr>\n",
       "      <th id=\"T_fc2b6_level0_row7\" class=\"row_heading level0 row7\" >7</th>\n",
       "      <td id=\"T_fc2b6_row7_col0\" class=\"data row7 col0\" >0.6779</td>\n",
       "      <td id=\"T_fc2b6_row7_col1\" class=\"data row7 col1\" >0.7272</td>\n",
       "      <td id=\"T_fc2b6_row7_col2\" class=\"data row7 col2\" >0.6595</td>\n",
       "      <td id=\"T_fc2b6_row7_col3\" class=\"data row7 col3\" >0.1481</td>\n",
       "      <td id=\"T_fc2b6_row7_col4\" class=\"data row7 col4\" >0.2419</td>\n",
       "      <td id=\"T_fc2b6_row7_col5\" class=\"data row7 col5\" >0.1314</td>\n",
       "      <td id=\"T_fc2b6_row7_col6\" class=\"data row7 col6\" >0.1909</td>\n",
       "    </tr>\n",
       "    <tr>\n",
       "      <th id=\"T_fc2b6_level0_row8\" class=\"row_heading level0 row8\" >8</th>\n",
       "      <td id=\"T_fc2b6_row8_col0\" class=\"data row8 col0\" >0.6785</td>\n",
       "      <td id=\"T_fc2b6_row8_col1\" class=\"data row8 col1\" >0.7405</td>\n",
       "      <td id=\"T_fc2b6_row8_col2\" class=\"data row8 col2\" >0.6841</td>\n",
       "      <td id=\"T_fc2b6_row8_col3\" class=\"data row8 col3\" >0.1522</td>\n",
       "      <td id=\"T_fc2b6_row8_col4\" class=\"data row8 col4\" >0.2489</td>\n",
       "      <td id=\"T_fc2b6_row8_col5\" class=\"data row8 col5\" >0.1392</td>\n",
       "      <td id=\"T_fc2b6_row8_col6\" class=\"data row8 col6\" >0.2034</td>\n",
       "    </tr>\n",
       "    <tr>\n",
       "      <th id=\"T_fc2b6_level0_row9\" class=\"row_heading level0 row9\" >9</th>\n",
       "      <td id=\"T_fc2b6_row9_col0\" class=\"data row9 col0\" >0.6849</td>\n",
       "      <td id=\"T_fc2b6_row9_col1\" class=\"data row9 col1\" >0.7374</td>\n",
       "      <td id=\"T_fc2b6_row9_col2\" class=\"data row9 col2\" >0.6587</td>\n",
       "      <td id=\"T_fc2b6_row9_col3\" class=\"data row9 col3\" >0.1510</td>\n",
       "      <td id=\"T_fc2b6_row9_col4\" class=\"data row9 col4\" >0.2457</td>\n",
       "      <td id=\"T_fc2b6_row9_col5\" class=\"data row9 col5\" >0.1362</td>\n",
       "      <td id=\"T_fc2b6_row9_col6\" class=\"data row9 col6\" >0.1957</td>\n",
       "    </tr>\n",
       "    <tr>\n",
       "      <th id=\"T_fc2b6_level0_row10\" class=\"row_heading level0 row10\" >Mean</th>\n",
       "      <td id=\"T_fc2b6_row10_col0\" class=\"data row10 col0\" >0.6776</td>\n",
       "      <td id=\"T_fc2b6_row10_col1\" class=\"data row10 col1\" >0.7357</td>\n",
       "      <td id=\"T_fc2b6_row10_col2\" class=\"data row10 col2\" >0.6730</td>\n",
       "      <td id=\"T_fc2b6_row10_col3\" class=\"data row10 col3\" >0.1501</td>\n",
       "      <td id=\"T_fc2b6_row10_col4\" class=\"data row10 col4\" >0.2454</td>\n",
       "      <td id=\"T_fc2b6_row10_col5\" class=\"data row10 col5\" >0.1353</td>\n",
       "      <td id=\"T_fc2b6_row10_col6\" class=\"data row10 col6\" >0.1973</td>\n",
       "    </tr>\n",
       "    <tr>\n",
       "      <th id=\"T_fc2b6_level0_row11\" class=\"row_heading level0 row11\" >Std</th>\n",
       "      <td id=\"T_fc2b6_row11_col0\" class=\"data row11 col0\" >0.0031</td>\n",
       "      <td id=\"T_fc2b6_row11_col1\" class=\"data row11 col1\" >0.0058</td>\n",
       "      <td id=\"T_fc2b6_row11_col2\" class=\"data row11 col2\" >0.0105</td>\n",
       "      <td id=\"T_fc2b6_row11_col3\" class=\"data row11 col3\" >0.0018</td>\n",
       "      <td id=\"T_fc2b6_row11_col4\" class=\"data row11 col4\" >0.0030</td>\n",
       "      <td id=\"T_fc2b6_row11_col5\" class=\"data row11 col5\" >0.0034</td>\n",
       "      <td id=\"T_fc2b6_row11_col6\" class=\"data row11 col6\" >0.0051</td>\n",
       "    </tr>\n",
       "  </tbody>\n",
       "</table>\n"
      ],
      "text/plain": [
       "<pandas.io.formats.style.Styler at 0x8d1fd790>"
      ]
     },
     "metadata": {},
     "output_type": "display_data"
    }
   ],
   "source": [
    "tuned_dt = tune_model(dt, optimize = 'AUC')\n",
    "tuned_rf = tune_model(rf, optimize = 'AUC')"
   ]
  },
  {
   "cell_type": "code",
   "execution_count": 26,
   "metadata": {},
   "outputs": [
    {
     "data": {
      "image/png": "[encoded data removed]",
      "text/plain": [
       "<Figure size 576x684 with 2 Axes>"
      ]
     },
     "metadata": {
      "needs_background": "light"
     },
     "output_type": "display_data"
    }
   ],
   "source": [
    "with plt.rc_context({'figure.facecolor':'grey'}):\n",
    "    interpret_model(tuned_dt)"
   ]
  },
  {
   "cell_type": "code",
   "execution_count": 27,
   "metadata": {},
   "outputs": [
    {
     "data": {
      "image/png": "[encoded data removed]",
      "text/plain": [
       "<Figure size 800x950 with 2 Axes>"
      ]
     },
     "metadata": {},
     "output_type": "display_data"
    }
   ],
   "source": [
    "# 優化\n",
    "\n",
    "with plt.rc_context({'figure.facecolor':'grey'}):\n",
    "    interpret_model(tuned_rf)"
   ]
  },
  {
   "cell_type": "markdown",
   "metadata": {},
   "source": [
    "##  挑出重要的特徵"
   ]
  },
  {
   "cell_type": "code",
   "execution_count": 28,
   "metadata": {},
   "outputs": [
    {
     "data": {
      "image/png": "[encoded data removed]",
      "text/plain": [
       "<Figure size 800x500 with 1 Axes>"
      ]
     },
     "metadata": {},
     "output_type": "display_data"
    }
   ],
   "source": [
    "# 挑出重要的特徵　for dt\n",
    "\n",
    "plot_model(tuned_dt, plot='feature')"
   ]
  },
  {
   "cell_type": "code",
   "execution_count": 29,
   "metadata": {},
   "outputs": [
    {
     "data": {
      "image/png": "[encoded data removed]",
      "text/plain": [
       "<Figure size 800x500 with 1 Axes>"
      ]
     },
     "metadata": {},
     "output_type": "display_data"
    }
   ],
   "source": [
    "plot_model(tuned_rf, plot='feature')"
   ]
  },
  {
   "cell_type": "markdown",
   "metadata": {},
   "source": [
    "## 畫出模型分布"
   ]
  },
  {
   "cell_type": "code",
   "execution_count": null,
   "metadata": {},
   "outputs": [],
   "source": [
    "plt.figure(figsize=(8, 8))\n",
    "plot_model(tuned_rf, plot='boundary')"
   ]
  },
  {
   "cell_type": "code",
   "execution_count": null,
   "metadata": {},
   "outputs": [],
   "source": [
    "# 此功能似有bug\n",
    "\n",
    "plt.figure(figsize=(8, 8))\n",
    "with plt.rc_context({'figure.facecolor':'black','text.color':'black'}):\n",
    "    plot_model(tuned_dt, plot='tree')"
   ]
  },
  {
   "cell_type": "code",
   "execution_count": null,
   "metadata": {
    "scrolled": true
   },
   "outputs": [],
   "source": [
    "plt.figure(figsize=(8, 8))\n",
    "plot_model(tuned_dt, plot='learning')"
   ]
  },
  {
   "cell_type": "code",
   "execution_count": null,
   "metadata": {},
   "outputs": [],
   "source": [
    "# 分類報告\n",
    "\n",
    "plt.figure(figsize=(8, 8))\n",
    "plot_model(tuned_dt, plot='class_report')"
   ]
  },
  {
   "cell_type": "code",
   "execution_count": null,
   "metadata": {},
   "outputs": [],
   "source": []
  },
  {
   "attachments": {
    "image.png": {
     "image/png": "[encoded data removed]"
    }
   },
   "cell_type": "markdown",
   "metadata": {},
   "source": [
    "# DNN神經網路\n",
    "\n",
    "說明：\n",
    "*  觀察前3個參數(最重要。隱藏層設定、作用函數、學習次數)和其他參數調整後的變化\n",
    "\n",
    "圖：\n",
    "![image.png](attachment:image.png)"
   ]
  },
  {
   "cell_type": "markdown",
   "metadata": {},
   "source": [
    "## **Sckit-Learn DNN**\n",
    "\n",
    "* hidden_layer_sizes=(50, 30)，表示有兩層隱藏層，第一層隱藏層有50個神經元，第二層有30個神經元。 \n",
    "* tuple，length = n_layers - 2，默认值（100. 100個神經元，只有1層）。第i个元素表示第i個隐藏层中的神经元数量。\n",
    "* https://blog.csdn.net/weixin_38278334/article/details/83023958"
   ]
  },
  {
   "cell_type": "code",
   "execution_count": null,
   "metadata": {},
   "outputs": [],
   "source": [
    "# 老師預設參數\n",
    "\n",
    "from sklearn.neural_network import MLPClassifier\n",
    "\n",
    "dnn = MLPClassifier(hidden_layer_sizes=(100),  #預設值1層,數目100\n",
    "         activation='logistic',  #{'identity'無，'logistic'為sigmoid，'tanh'，'relu'}，預設='relu'\n",
    "         solver='sgd',   #{'lbfgs'牛頓，'sgd'隨機梯度，'adam'隨機梯度優化}，預設='adam'\n",
    "         batch_size='auto',  #'auto'為min(200～樣本數)\n",
    "         learning_rate='constant',  #constant固定'，'invscaling隨著時間遞減'，'adaptive誤差減少時不改變'}，預設 ='constant' \n",
    "         learning_rate_init=0.001, #優化器為sgd、adam使用\n",
    "         power_t=0.5,     # 優化器為sgd，則可以設定強化學習率   \n",
    "         max_iter=200,    #訓練次數\n",
    "         shuffle=True,    #隨機設定權重\n",
    "         random_state=1,   #隨機的基礎值\n",
    "         momentum=0.9,    #動量\n",
    "         alpha=0.001)     # L2正規化 數字愈大降低過擬合、數字愈小修正高誤差"
   ]
  },
  {
   "cell_type": "code",
   "execution_count": null,
   "metadata": {},
   "outputs": [],
   "source": [
    "# 跑超久, 近20分！\n",
    "# dnn = MLPClassifier()"
   ]
  },
  {
   "cell_type": "code",
   "execution_count": null,
   "metadata": {},
   "outputs": [],
   "source": [
    "# 數十分\n",
    "\n",
    "# dnn = MLPClassifier(hidden_layer_sizes=(5,5), activation='logistic', max_iter=400)"
   ]
  },
  {
   "cell_type": "code",
   "execution_count": null,
   "metadata": {},
   "outputs": [],
   "source": []
  },
  {
   "cell_type": "markdown",
   "metadata": {},
   "source": [
    "## ★訓練"
   ]
  },
  {
   "cell_type": "code",
   "execution_count": null,
   "metadata": {},
   "outputs": [],
   "source": [
    "%%time\n",
    "# v3.3csv +16個欄位跑2分\n",
    "\n",
    "dnn_model = dnn.fit(X_train1, y_train1)\n",
    "\n",
    "with open('dnn_model.pickle', 'wb') as fw:\n",
    "    pickle.dump(dnn_model, fw)\n",
    "\n",
    "rst = dnn.score(X_train1,y_train1)\n",
    "print(\"訓練評分: %0.4f%% \" % (rst * 100))"
   ]
  },
  {
   "cell_type": "code",
   "execution_count": null,
   "metadata": {},
   "outputs": [],
   "source": []
  },
  {
   "cell_type": "markdown",
   "metadata": {},
   "source": [
    "## 測試結果"
   ]
  },
  {
   "cell_type": "code",
   "execution_count": null,
   "metadata": {},
   "outputs": [],
   "source": [
    "# y預測值\n",
    "\n",
    "y_pred = dnn.predict(X_test)\n",
    "y_pred"
   ]
  },
  {
   "cell_type": "code",
   "execution_count": null,
   "metadata": {},
   "outputs": [],
   "source": [
    "# 準確度accuracy(看整體)\n",
    "\n",
    "accuracy = accuracy_score(y_test, y_pred)\n",
    "print(\"模型準確度(正確率, Accuracy): %0.4f%% \" % (accuracy * 100))"
   ]
  },
  {
   "cell_type": "code",
   "execution_count": null,
   "metadata": {},
   "outputs": [],
   "source": [
    "# 分類報告\n",
    " \n",
    "from sklearn.metrics import classification_report, confusion_matrix\n",
    "print(classification_report(y_test,y_pred))"
   ]
  },
  {
   "cell_type": "code",
   "execution_count": null,
   "metadata": {},
   "outputs": [],
   "source": [
    "# 混淆矩陣\n",
    "\n",
    "print(confusion_matrix(y_test,y_pred))"
   ]
  },
  {
   "cell_type": "markdown",
   "metadata": {},
   "source": [
    "## 門檻值"
   ]
  },
  {
   "cell_type": "code",
   "execution_count": null,
   "metadata": {},
   "outputs": [],
   "source": [
    "from sklearn.metrics import mean_squared_error\n",
    "from sklearn.metrics import mean_absolute_error\n",
    "from math import sqrt\n",
    "import numpy as np\n",
    "\n",
    "MSE = mean_squared_error(y_test, y_pred)\n",
    "print('MSE=',MSE)\n",
    "RMSE =np.sqrt(MSE)\n",
    "print('RMSE=',RMSE)\n",
    "MAE= mean_absolute_error(y_test, y_pred)\n",
    "print('MAE=',MAE)\n",
    "\n",
    "R2=1-MSE/np.var(y_test)\n",
    "print(\"R2:\", R2)\n"
   ]
  },
  {
   "cell_type": "code",
   "execution_count": null,
   "metadata": {},
   "outputs": [],
   "source": [
    "ytest = []\n",
    "for value in y_test:\n",
    "    ytest.append(value)\n",
    "count=0\n",
    "errvalue=abs((ytest-y_pred)/ytest)\n",
    "errvalue"
   ]
  },
  {
   "cell_type": "code",
   "execution_count": null,
   "metadata": {},
   "outputs": [],
   "source": [
    "threshold=0.01  #門檻值\n",
    "for i in range(len(errvalue)):\n",
    "    if errvalue[i]<0.01:           \n",
    "        count=count+1\n",
    "print(\"通過門檻筆數\",count)\n",
    "print(\"通過門檻百分比\",count/len(errvalue))"
   ]
  },
  {
   "cell_type": "code",
   "execution_count": null,
   "metadata": {},
   "outputs": [],
   "source": []
  },
  {
   "cell_type": "markdown",
   "metadata": {},
   "source": [
    "# K近鄰法"
   ]
  },
  {
   "cell_type": "markdown",
   "metadata": {},
   "source": [
    "## 訓練"
   ]
  },
  {
   "cell_type": "code",
   "execution_count": null,
   "metadata": {},
   "outputs": [],
   "source": [
    "%%time \n",
    "\n",
    "# 跑18分多 (先前只跑4分)\n",
    "\n",
    "from sklearn.neighbors import KNeighborsClassifier\n",
    "\n",
    "knn = KNeighborsClassifier(n_neighbors=3)\n",
    "knn.fit(X_train1, y_train1)\n",
    "rst = knn.score(X_train1,y_train1)\n",
    "print(\"訓練評分: %0.4f%% \" % (rst * 100))"
   ]
  },
  {
   "cell_type": "markdown",
   "metadata": {},
   "source": [
    "## 測試結果"
   ]
  },
  {
   "cell_type": "code",
   "execution_count": null,
   "metadata": {},
   "outputs": [],
   "source": [
    "%%time\n",
    "# y預測值\n",
    "\n",
    "y_pred = knn.predict(X_test)\n",
    "y_pred"
   ]
  },
  {
   "cell_type": "code",
   "execution_count": null,
   "metadata": {},
   "outputs": [],
   "source": [
    "\n",
    "# 準確度accuracy(看整體)\n",
    "\n",
    "accuracy = accuracy_score(y_test, y_pred)\n",
    "print(\"模型準確度(正確率, Accuracy): %0.4f%% \" % (accuracy * 100))"
   ]
  },
  {
   "cell_type": "code",
   "execution_count": null,
   "metadata": {},
   "outputs": [],
   "source": [
    "# 分類報告\n",
    "\n",
    "from sklearn.metrics import classification_report, confusion_matrix\n",
    "print(classification_report(y_test,y_pred))"
   ]
  },
  {
   "cell_type": "code",
   "execution_count": null,
   "metadata": {},
   "outputs": [],
   "source": [
    "# 混淆矩陣\n",
    "\n",
    "print(confusion_matrix(y_test,y_pred))"
   ]
  },
  {
   "cell_type": "markdown",
   "metadata": {},
   "source": [
    "## 門檻值"
   ]
  },
  {
   "cell_type": "code",
   "execution_count": null,
   "metadata": {},
   "outputs": [],
   "source": [
    "from sklearn.metrics import mean_squared_error\n",
    "from sklearn.metrics import mean_absolute_error\n",
    "from math import sqrt\n",
    "import numpy as np\n",
    "\n",
    "MSE = mean_squared_error(y_test, y_pred)\n",
    "print('MSE=',MSE)\n",
    "RMSE =np.sqrt(MSE)\n",
    "print('RMSE=',RMSE)\n",
    "MAE= mean_absolute_error(y_test, y_pred)\n",
    "print('MAE=',MAE)\n",
    "\n",
    "R2=1-MSE/np.var(y_test)\n",
    "print(\"R2:\", R2)\n"
   ]
  },
  {
   "cell_type": "code",
   "execution_count": null,
   "metadata": {},
   "outputs": [],
   "source": [
    "ytest = []\n",
    "for value in y_test:\n",
    "    ytest.append(value)\n",
    "count=0\n",
    "errvalue=abs((ytest-y_pred)/ytest)\n",
    "errvalue"
   ]
  },
  {
   "cell_type": "code",
   "execution_count": null,
   "metadata": {},
   "outputs": [],
   "source": [
    "threshold=0.01  #門檻值\n",
    "for i in range(len(errvalue)):\n",
    "    if errvalue[i]<0.01:           \n",
    "        count=count+1\n",
    "print(\"通過門檻筆數\",count)\n",
    "print(\"通過門檻百分比\",count/len(errvalue))"
   ]
  },
  {
   "cell_type": "code",
   "execution_count": null,
   "metadata": {},
   "outputs": [],
   "source": []
  },
  {
   "cell_type": "code",
   "execution_count": null,
   "metadata": {},
   "outputs": [],
   "source": []
  },
  {
   "attachments": {
    "image-5.png": {
     "image/png": "[encoded data removed]"
    },
    "image.png": {
     "image/png": "[encoded data removed]"
    }
   },
   "cell_type": "markdown",
   "metadata": {},
   "source": [
    "# 隨機森林(集成)\n",
    "\n",
    "圖1：抽樣前：\n",
    "![image.png](attachment:image.png)\n",
    "\n",
    "---\n",
    "圖2：抽樣後, 1的部分提升\n",
    "![image-5.png](attachment:image-5.png)"
   ]
  },
  {
   "cell_type": "markdown",
   "metadata": {},
   "source": [
    "## ★訓練"
   ]
  },
  {
   "cell_type": "code",
   "execution_count": null,
   "metadata": {},
   "outputs": [],
   "source": [
    "%%time\n",
    "\n",
    "from sklearn.ensemble import RandomForestClassifier\n",
    "\n",
    "# rf = RandomForestClassifier(n_estimators = 10, random_state = 0) 原始\n",
    "rf = RandomForestClassifier(n_estimators = 35, criterion='gini', max_depth=10, random_state = 1)\n",
    "\n",
    "rf_model = rf.fit(X_train1, y_train1)\n",
    "\n",
    "with open('rf_model.pickle', 'wb') as fw:\n",
    "    pickle.dump(rf_model, fw)\n",
    "\n",
    "rst = rf.score(X_train1,y_train1)\n",
    "print(\"訓練評分: %0.4f%% \" % (rst * 100))"
   ]
  },
  {
   "cell_type": "markdown",
   "metadata": {},
   "source": [
    "## 測試結果"
   ]
  },
  {
   "cell_type": "code",
   "execution_count": null,
   "metadata": {},
   "outputs": [],
   "source": [
    "# 準確度accuracy(看整體)\n",
    "y_pred = rf.predict(X_test)\n",
    "accuracy = accuracy_score(y_test, y_pred)\n",
    "print(\"模型準確度(正確率, Accuracy): %0.4f%% \" % (accuracy * 100))"
   ]
  },
  {
   "cell_type": "code",
   "execution_count": null,
   "metadata": {},
   "outputs": [],
   "source": [
    "# 分類報告\n",
    " \n",
    "from sklearn.metrics import classification_report, confusion_matrix\n",
    "print(classification_report(y_test,y_pred))"
   ]
  },
  {
   "cell_type": "code",
   "execution_count": null,
   "metadata": {},
   "outputs": [],
   "source": [
    "# 混淆矩陣\n",
    "\n",
    "print(confusion_matrix(y_test,y_pred))"
   ]
  },
  {
   "cell_type": "markdown",
   "metadata": {},
   "source": [
    "## 門檻值"
   ]
  },
  {
   "cell_type": "code",
   "execution_count": null,
   "metadata": {},
   "outputs": [],
   "source": [
    "from sklearn.metrics import mean_squared_error\n",
    "from sklearn.metrics import mean_absolute_error\n",
    "from math import sqrt\n",
    "import numpy as np\n",
    "\n",
    "MSE = mean_squared_error(y_test, y_pred)\n",
    "print('MSE=',MSE)\n",
    "RMSE =np.sqrt(MSE)\n",
    "print('RMSE=',RMSE)\n",
    "MAE= mean_absolute_error(y_test, y_pred)\n",
    "print('MAE=',MAE)\n",
    "\n",
    "R2=1-MSE/np.var(y_test)\n",
    "print(\"R2:\", R2)\n"
   ]
  },
  {
   "cell_type": "code",
   "execution_count": null,
   "metadata": {},
   "outputs": [],
   "source": [
    "ytest = []\n",
    "for value in y_test:\n",
    "    ytest.append(value)\n",
    "count=0\n",
    "errvalue=abs((ytest-y_pred)/ytest)\n",
    "errvalue"
   ]
  },
  {
   "cell_type": "code",
   "execution_count": null,
   "metadata": {},
   "outputs": [],
   "source": [
    "threshold=0.01  #門檻值\n",
    "for i in range(len(errvalue)):\n",
    "    if errvalue[i]<0.01:           \n",
    "        count=count+1\n",
    "print(\"通過門檻筆數\",count)\n",
    "print(\"通過門檻百分比\",count/len(errvalue))"
   ]
  },
  {
   "cell_type": "code",
   "execution_count": null,
   "metadata": {},
   "outputs": [],
   "source": []
  },
  {
   "attachments": {
    "image-2.png": {
     "image/png": "[encoded data removed]"
    }
   },
   "cell_type": "markdown",
   "metadata": {},
   "source": [
    "# 貝氏分類器\n",
    "\n",
    "圖：creditV1: 目前最高的召回率0.63\n",
    "![image-2.png](attachment:image-2.png)"
   ]
  },
  {
   "cell_type": "markdown",
   "metadata": {},
   "source": [
    "## GaussianNB"
   ]
  },
  {
   "cell_type": "markdown",
   "metadata": {},
   "source": [
    "### 訓練"
   ]
  },
  {
   "cell_type": "code",
   "execution_count": 101,
   "metadata": {},
   "outputs": [
    {
     "name": "stdout",
     "output_type": "stream",
     "text": [
      "訓練評分: 65.1701% \n",
      "Wall time: 566 ms\n"
     ]
    }
   ],
   "source": [
    "%%time\n",
    "# 較快速\n",
    "\n",
    "from sklearn.naive_bayes import GaussianNB\n",
    "\n",
    "GNB = GaussianNB()\n",
    "GNB.fit(X_train1, y_train1)\n",
    "rst = GNB.score(X_train1,y_train1)\n",
    "print(\"訓練評分: %0.4f%% \" % (rst * 100))\n",
    "\n"
   ]
  },
  {
   "cell_type": "code",
   "execution_count": null,
   "metadata": {},
   "outputs": [],
   "source": []
  },
  {
   "cell_type": "markdown",
   "metadata": {},
   "source": [
    "### 測試結果"
   ]
  },
  {
   "cell_type": "code",
   "execution_count": 102,
   "metadata": {},
   "outputs": [
    {
     "name": "stdout",
     "output_type": "stream",
     "text": [
      "模型準確度(正確率, Accuracy): 64.1389% \n"
     ]
    }
   ],
   "source": [
    "# 準確度accuracy(看整體)\n",
    "y_pred = GNB.predict(X_test)\n",
    "accuracy = accuracy_score(y_test, y_pred)\n",
    "print(\"模型準確度(正確率, Accuracy): %0.4f%% \" % (accuracy * 100))"
   ]
  },
  {
   "cell_type": "code",
   "execution_count": 103,
   "metadata": {},
   "outputs": [
    {
     "name": "stdout",
     "output_type": "stream",
     "text": [
      "              precision    recall  f1-score   support\n",
      "\n",
      "           0       0.96      0.64      0.77     68051\n",
      "           1       0.14      0.67      0.23      5781\n",
      "\n",
      "    accuracy                           0.64     73832\n",
      "   macro avg       0.55      0.66      0.50     73832\n",
      "weighted avg       0.89      0.64      0.72     73832\n",
      "\n"
     ]
    }
   ],
   "source": [
    "# 分類報告\n",
    " \n",
    "from sklearn.metrics import classification_report, confusion_matrix\n",
    "print(classification_report(y_test,y_pred))"
   ]
  },
  {
   "cell_type": "code",
   "execution_count": 104,
   "metadata": {},
   "outputs": [
    {
     "name": "stdout",
     "output_type": "stream",
     "text": [
      "[[43474 24577]\n",
      " [ 1900  3881]]\n"
     ]
    }
   ],
   "source": [
    "# 混淆矩陣\n",
    "\n",
    "print(confusion_matrix(y_test,y_pred))"
   ]
  },
  {
   "cell_type": "markdown",
   "metadata": {},
   "source": [
    "### 門檻值"
   ]
  },
  {
   "cell_type": "code",
   "execution_count": 105,
   "metadata": {},
   "outputs": [
    {
     "name": "stdout",
     "output_type": "stream",
     "text": [
      "MSE= 0.358611442193087\n",
      "RMSE= 0.5988417505427348\n",
      "MAE= 0.358611442193087\n",
      "R2: -3.969079299787756\n"
     ]
    }
   ],
   "source": [
    "from sklearn.metrics import mean_squared_error\n",
    "from sklearn.metrics import mean_absolute_error\n",
    "from math import sqrt\n",
    "import numpy as np\n",
    "\n",
    "MSE = mean_squared_error(y_test, y_pred)\n",
    "print('MSE=',MSE)\n",
    "RMSE =np.sqrt(MSE)\n",
    "print('RMSE=',RMSE)\n",
    "MAE= mean_absolute_error(y_test, y_pred)\n",
    "print('MAE=',MAE)\n",
    "\n",
    "R2=1-MSE/np.var(y_test)\n",
    "print(\"R2:\", R2)\n"
   ]
  },
  {
   "cell_type": "code",
   "execution_count": 106,
   "metadata": {},
   "outputs": [
    {
     "data": {
      "text/plain": [
       "array([nan, nan, nan, ...,  0., inf, inf])"
      ]
     },
     "execution_count": 106,
     "metadata": {},
     "output_type": "execute_result"
    }
   ],
   "source": [
    "ytest = []\n",
    "for value in y_test:\n",
    "    ytest.append(value)\n",
    "count=0\n",
    "errvalue=abs((ytest-y_pred)/ytest)\n",
    "errvalue"
   ]
  },
  {
   "cell_type": "code",
   "execution_count": 107,
   "metadata": {},
   "outputs": [
    {
     "name": "stdout",
     "output_type": "stream",
     "text": [
      "通過門檻筆數 3881\n",
      "通過門檻百分比 0.05256528334597464\n"
     ]
    }
   ],
   "source": [
    "threshold=0.01  #門檻值\n",
    "for i in range(len(errvalue)):\n",
    "    if errvalue[i]<0.01:           \n",
    "        count=count+1\n",
    "print(\"通過門檻筆數\",count)\n",
    "print(\"通過門檻百分比\",count/len(errvalue))"
   ]
  },
  {
   "cell_type": "code",
   "execution_count": null,
   "metadata": {},
   "outputs": [],
   "source": []
  },
  {
   "cell_type": "markdown",
   "metadata": {},
   "source": [
    "## 不用CategoricalNB(類樸素貝葉斯)"
   ]
  },
  {
   "cell_type": "markdown",
   "metadata": {},
   "source": [
    "### 訓練"
   ]
  },
  {
   "cell_type": "code",
   "execution_count": 108,
   "metadata": {},
   "outputs": [],
   "source": [
    "# from sklearn.naive_bayes import CategoricalNB\n",
    "\n",
    "# Cnb = CategoricalNB()\n",
    "# Cnb.fit(X_train1, y_train1)\n",
    "# rst = Cnb.score(X_train1,y_train1)\n",
    "# print(\"訓練評分: %0.4f%% \" % (rst * 100))"
   ]
  },
  {
   "cell_type": "markdown",
   "metadata": {},
   "source": [
    "### 測試"
   ]
  },
  {
   "cell_type": "code",
   "execution_count": 109,
   "metadata": {},
   "outputs": [],
   "source": [
    "# # y預測值\n",
    "\n",
    "# y_pred = Cnb.predict(X_test)\n",
    "# y_pred"
   ]
  },
  {
   "cell_type": "code",
   "execution_count": 110,
   "metadata": {},
   "outputs": [],
   "source": [
    "# # 準確度accuracy(看整體)\n",
    "\n",
    "# accuracy = accuracy_score(y_test, y_pred)\n",
    "# print(\"模型準確度(正確率, Accuracy): %0.4f%% \" % (accuracy * 100))"
   ]
  },
  {
   "cell_type": "code",
   "execution_count": 111,
   "metadata": {},
   "outputs": [],
   "source": [
    "# # 分類報告\n",
    " \n",
    "# from sklearn.metrics import classification_report, confusion_matrix\n",
    "# print(classification_report(y_test,y_pred))"
   ]
  },
  {
   "cell_type": "code",
   "execution_count": 112,
   "metadata": {},
   "outputs": [],
   "source": [
    "# # 混淆矩陣\n",
    "\n",
    "# print(confusion_matrix(y_test,y_pred))"
   ]
  },
  {
   "cell_type": "markdown",
   "metadata": {},
   "source": [
    "### 門檻值"
   ]
  },
  {
   "cell_type": "code",
   "execution_count": 113,
   "metadata": {},
   "outputs": [],
   "source": [
    "# from sklearn.metrics import mean_squared_error\n",
    "# from sklearn.metrics import mean_absolute_error\n",
    "# from math import sqrt\n",
    "# import numpy as np\n",
    "\n",
    "# MSE = mean_squared_error(y_test, y_pred)\n",
    "# print('MSE=',MSE)\n",
    "# RMSE =np.sqrt(MSE)\n",
    "# print('RMSE=',RMSE)\n",
    "# MAE= mean_absolute_error(y_test, y_pred)\n",
    "# print('MAE=',MAE)\n",
    "\n",
    "# R2=1-MSE/np.var(y_test)\n",
    "# print(\"R2:\", R2)\n"
   ]
  },
  {
   "cell_type": "code",
   "execution_count": 114,
   "metadata": {},
   "outputs": [],
   "source": [
    "# ytest = []\n",
    "# for value in y_test:\n",
    "#     ytest.append(value)\n",
    "# count=0\n",
    "# errvalue=abs((ytest-y_pred)/ytest)\n",
    "# errvalue"
   ]
  },
  {
   "cell_type": "code",
   "execution_count": 115,
   "metadata": {},
   "outputs": [],
   "source": [
    "# threshold=0.01  #門檻值\n",
    "# for i in range(len(errvalue)):\n",
    "#     if errvalue[i]<0.01:           \n",
    "#         count=count+1\n",
    "# print(\"通過門檻筆數\",count)\n",
    "# print(\"通過門檻百分比\",count/len(errvalue))"
   ]
  },
  {
   "cell_type": "code",
   "execution_count": null,
   "metadata": {},
   "outputs": [],
   "source": []
  },
  {
   "cell_type": "markdown",
   "metadata": {},
   "source": [
    "#  ★XGBoost(梯度提升法)"
   ]
  },
  {
   "cell_type": "markdown",
   "metadata": {},
   "source": [
    "## ★訓練"
   ]
  },
  {
   "cell_type": "code",
   "execution_count": 116,
   "metadata": {},
   "outputs": [],
   "source": [
    "# from xgboost.sklearn import XGBClassifier\n",
    "# xgbc = XGBClassifier(        \n",
    "#         n_estimators=100,     #樹的個數\n",
    "#         learning_rate= 0.3,    # 如同學習率 \n",
    "#         max_depth=6,       # 構建樹的深度，越大越容易過擬合    \n",
    "#         subsample=1,         # 隨機取樣訓練樣本 訓練例項的子取樣比\n",
    "#         gamma=0,         # 用於控制是否後剪枝的引數,越大越保守，一般0.1、0.2這樣子\n",
    "#         reg_lambda=1,          # 控制模型複雜度的權重值的L2正則化項引數，引數越大，模型越不容易過擬合。\n",
    "#         max_delta_step=0,        #最大增量步長，我們允許每個樹的權重估計。\n",
    "#         colsample_bytree=1,         # 生成樹時進行的列取樣 \n",
    "#         min_child_weight=1, \n",
    "#                      # 這個引數預設是 1，是每個葉子裡面 h 的和至少是多少，對正負樣本不均衡時的 0-1 分類而言\n",
    "#                      # 假設 h 在 0.01 附近，min_child_weight 為 1 意味著葉子節點中最少需要包含 100 個樣本。\n",
    "#                      #這個引數非常影響結果，控制葉子節點中二階導的和的最小值，該引數值越小，越容易 overfitting。\n",
    "#         seed=1000         #隨機種子\n",
    "# #        reg_alpha=0,        # L1 正則項引數\n",
    "#         #scale_pos_weight=1,        #如果取值大於0的話，在類別樣本不平衡的情況下有助於快速收斂。平衡正負權重\n",
    "#         #objective= 'multi:softmax',         #多分類的問題 指定學習任務和相應的學習目標\n",
    "#         #num_class=10,        # 類別數，多分類與 multisoftmax 並用\n",
    "# #        silent=0 ,        # 設定成1則沒有執行資訊輸出，最好是設定為0.是否在執行升級時列印訊息。\n",
    "# #        nthread=4,        # cpu 執行緒數 預設最大\n",
    "#         #eval_metric= 'auc',\n",
    "#         random_state=1\n",
    "# )\n"
   ]
  },
  {
   "cell_type": "code",
   "execution_count": 117,
   "metadata": {},
   "outputs": [
    {
     "name": "stdout",
     "output_type": "stream",
     "text": [
      "訓練評分: 76.9954% \n",
      "Wall time: 24.5 s\n"
     ]
    }
   ],
   "source": [
    "%%time\n",
    "\n",
    "from xgboost import XGBClassifier\n",
    "\n",
    "XGB = XGBClassifier(random_state=1)\n",
    "\n",
    "XGB_model = XGB.fit(X_train1, y_train1)\n",
    "\n",
    "with open('XGB_model.pickle', 'wb') as fw:\n",
    "    pickle.dump(XGB_model, fw)\n",
    "\n",
    "rst = XGB.score(X_train1,y_train1)\n",
    "print(\"訓練評分: %0.4f%% \" % (rst * 100))"
   ]
  },
  {
   "cell_type": "code",
   "execution_count": null,
   "metadata": {},
   "outputs": [],
   "source": []
  },
  {
   "cell_type": "markdown",
   "metadata": {},
   "source": [
    "## 測試"
   ]
  },
  {
   "cell_type": "code",
   "execution_count": 118,
   "metadata": {},
   "outputs": [
    {
     "name": "stdout",
     "output_type": "stream",
     "text": [
      "模型準確度(正確率, Accuracy): 73.2122% \n"
     ]
    }
   ],
   "source": [
    "y_pred = XGB.predict(X_test)\n",
    "accuracy = accuracy_score(y_test, y_pred)\n",
    "print(\"模型準確度(正確率, Accuracy): %0.4f%% \" % (accuracy * 100))"
   ]
  },
  {
   "cell_type": "code",
   "execution_count": 119,
   "metadata": {},
   "outputs": [
    {
     "name": "stdout",
     "output_type": "stream",
     "text": [
      "              precision    recall  f1-score   support\n",
      "\n",
      "           0       0.96      0.74      0.84     68051\n",
      "           1       0.17      0.61      0.26      5781\n",
      "\n",
      "    accuracy                           0.73     73832\n",
      "   macro avg       0.56      0.68      0.55     73832\n",
      "weighted avg       0.90      0.73      0.79     73832\n",
      "\n"
     ]
    }
   ],
   "source": [
    "# 分類報告\n",
    " \n",
    "from sklearn.metrics import classification_report, confusion_matrix\n",
    "print(classification_report(y_test,y_pred))"
   ]
  },
  {
   "cell_type": "code",
   "execution_count": 120,
   "metadata": {},
   "outputs": [
    {
     "name": "stdout",
     "output_type": "stream",
     "text": [
      "[[50524 17527]\n",
      " [ 2251  3530]]\n"
     ]
    }
   ],
   "source": [
    "# 混淆矩陣\n",
    "\n",
    "print(confusion_matrix(y_test,y_pred))"
   ]
  },
  {
   "cell_type": "markdown",
   "metadata": {},
   "source": [
    "## 門檻值"
   ]
  },
  {
   "cell_type": "code",
   "execution_count": 121,
   "metadata": {},
   "outputs": [
    {
     "name": "stdout",
     "output_type": "stream",
     "text": [
      "MSE= 0.2678784266984505\n",
      "RMSE= 0.5175697312425163\n",
      "MAE= 0.2678784266984505\n",
      "R2: -2.7118423685161552\n"
     ]
    }
   ],
   "source": [
    "from sklearn.metrics import mean_squared_error\n",
    "from sklearn.metrics import mean_absolute_error\n",
    "from math import sqrt\n",
    "import numpy as np\n",
    "\n",
    "MSE = mean_squared_error(y_test, y_pred)\n",
    "print('MSE=',MSE)\n",
    "RMSE =np.sqrt(MSE)\n",
    "print('RMSE=',RMSE)\n",
    "MAE= mean_absolute_error(y_test, y_pred)\n",
    "print('MAE=',MAE)\n",
    "\n",
    "R2=1-MSE/np.var(y_test)\n",
    "print(\"R2:\", R2)\n"
   ]
  },
  {
   "cell_type": "code",
   "execution_count": 122,
   "metadata": {},
   "outputs": [
    {
     "data": {
      "text/plain": [
       "array([nan, nan, nan, ...,  0., inf, inf])"
      ]
     },
     "execution_count": 122,
     "metadata": {},
     "output_type": "execute_result"
    }
   ],
   "source": [
    "ytest = []\n",
    "for value in y_test:\n",
    "    ytest.append(value)\n",
    "count=0\n",
    "errvalue=abs((ytest-y_pred)/ytest)\n",
    "errvalue"
   ]
  },
  {
   "cell_type": "code",
   "execution_count": 123,
   "metadata": {},
   "outputs": [
    {
     "name": "stdout",
     "output_type": "stream",
     "text": [
      "通過門檻筆數 3530\n",
      "通過門檻百分比 0.047811247155704846\n"
     ]
    }
   ],
   "source": [
    "threshold=0.01  #門檻值\n",
    "for i in range(len(errvalue)):\n",
    "    if errvalue[i]<0.01:           \n",
    "        count=count+1\n",
    "print(\"通過門檻筆數\",count)\n",
    "print(\"通過門檻百分比\",count/len(errvalue))"
   ]
  },
  {
   "cell_type": "markdown",
   "metadata": {},
   "source": [
    "## 網格搜尋"
   ]
  },
  {
   "cell_type": "markdown",
   "metadata": {},
   "source": [
    "### 網格訓練"
   ]
  },
  {
   "cell_type": "code",
   "execution_count": 124,
   "metadata": {},
   "outputs": [
    {
     "name": "stdout",
     "output_type": "stream",
     "text": [
      "Fitting 5 folds for each of 16 candidates, totalling 80 fits\n"
     ]
    },
    {
     "name": "stderr",
     "output_type": "stream",
     "text": [
      "[Parallel(n_jobs=1)]: Using backend SequentialBackend with 1 concurrent workers.\n"
     ]
    },
    {
     "ename": "KeyboardInterrupt",
     "evalue": "",
     "output_type": "error",
     "traceback": [
      "\u001b[1;31m---------------------------------------------------------------------------\u001b[0m",
      "\u001b[1;31mKeyboardInterrupt\u001b[0m                         Traceback (most recent call last)",
      "\u001b[1;32m~\\AppData\\Local\\Temp/ipykernel_13800/3627312775.py\u001b[0m in \u001b[0;36m<module>\u001b[1;34m\u001b[0m\n\u001b[0;32m     20\u001b[0m                    verbose=1)\n\u001b[0;32m     21\u001b[0m \u001b[1;33m\u001b[0m\u001b[0m\n\u001b[1;32m---> 22\u001b[1;33m \u001b[0mgrid_search\u001b[0m\u001b[1;33m.\u001b[0m\u001b[0mfit\u001b[0m\u001b[1;33m(\u001b[0m\u001b[0mX_train1\u001b[0m\u001b[1;33m,\u001b[0m \u001b[0my_train1\u001b[0m\u001b[1;33m)\u001b[0m\u001b[1;33m\u001b[0m\u001b[1;33m\u001b[0m\u001b[0m\n\u001b[0m\u001b[0;32m     23\u001b[0m \u001b[0mbestimator\u001b[0m \u001b[1;33m=\u001b[0m \u001b[0mgrid_search\u001b[0m\u001b[1;33m.\u001b[0m\u001b[0mbest_estimator_\u001b[0m\u001b[1;33m\u001b[0m\u001b[1;33m\u001b[0m\u001b[0m\n\u001b[0;32m     24\u001b[0m \u001b[0mypred\u001b[0m \u001b[1;33m=\u001b[0m \u001b[0mbestimator\u001b[0m\u001b[1;33m.\u001b[0m\u001b[0mpredict\u001b[0m\u001b[1;33m(\u001b[0m\u001b[0mX_test\u001b[0m\u001b[1;33m)\u001b[0m\u001b[1;33m\u001b[0m\u001b[1;33m\u001b[0m\u001b[0m\n",
      "\u001b[1;32mE:\\env\\vPy38\\lib\\site-packages\\sklearn\\utils\\validation.py\u001b[0m in \u001b[0;36minner_f\u001b[1;34m(*args, **kwargs)\u001b[0m\n\u001b[0;32m     70\u001b[0m                           FutureWarning)\n\u001b[0;32m     71\u001b[0m         \u001b[0mkwargs\u001b[0m\u001b[1;33m.\u001b[0m\u001b[0mupdate\u001b[0m\u001b[1;33m(\u001b[0m\u001b[1;33m{\u001b[0m\u001b[0mk\u001b[0m\u001b[1;33m:\u001b[0m \u001b[0marg\u001b[0m \u001b[1;32mfor\u001b[0m \u001b[0mk\u001b[0m\u001b[1;33m,\u001b[0m \u001b[0marg\u001b[0m \u001b[1;32min\u001b[0m \u001b[0mzip\u001b[0m\u001b[1;33m(\u001b[0m\u001b[0msig\u001b[0m\u001b[1;33m.\u001b[0m\u001b[0mparameters\u001b[0m\u001b[1;33m,\u001b[0m \u001b[0margs\u001b[0m\u001b[1;33m)\u001b[0m\u001b[1;33m}\u001b[0m\u001b[1;33m)\u001b[0m\u001b[1;33m\u001b[0m\u001b[1;33m\u001b[0m\u001b[0m\n\u001b[1;32m---> 72\u001b[1;33m         \u001b[1;32mreturn\u001b[0m \u001b[0mf\u001b[0m\u001b[1;33m(\u001b[0m\u001b[1;33m**\u001b[0m\u001b[0mkwargs\u001b[0m\u001b[1;33m)\u001b[0m\u001b[1;33m\u001b[0m\u001b[1;33m\u001b[0m\u001b[0m\n\u001b[0m\u001b[0;32m     73\u001b[0m     \u001b[1;32mreturn\u001b[0m \u001b[0minner_f\u001b[0m\u001b[1;33m\u001b[0m\u001b[1;33m\u001b[0m\u001b[0m\n\u001b[0;32m     74\u001b[0m \u001b[1;33m\u001b[0m\u001b[0m\n",
      "\u001b[1;32mE:\\env\\vPy38\\lib\\site-packages\\sklearn\\model_selection\\_search.py\u001b[0m in \u001b[0;36mfit\u001b[1;34m(self, X, y, groups, **fit_params)\u001b[0m\n\u001b[0;32m    734\u001b[0m                 \u001b[1;32mreturn\u001b[0m \u001b[0mresults\u001b[0m\u001b[1;33m\u001b[0m\u001b[1;33m\u001b[0m\u001b[0m\n\u001b[0;32m    735\u001b[0m \u001b[1;33m\u001b[0m\u001b[0m\n\u001b[1;32m--> 736\u001b[1;33m             \u001b[0mself\u001b[0m\u001b[1;33m.\u001b[0m\u001b[0m_run_search\u001b[0m\u001b[1;33m(\u001b[0m\u001b[0mevaluate_candidates\u001b[0m\u001b[1;33m)\u001b[0m\u001b[1;33m\u001b[0m\u001b[1;33m\u001b[0m\u001b[0m\n\u001b[0m\u001b[0;32m    737\u001b[0m \u001b[1;33m\u001b[0m\u001b[0m\n\u001b[0;32m    738\u001b[0m         \u001b[1;31m# For multi-metric evaluation, store the best_index_, best_params_ and\u001b[0m\u001b[1;33m\u001b[0m\u001b[1;33m\u001b[0m\u001b[1;33m\u001b[0m\u001b[0m\n",
      "\u001b[1;32mE:\\env\\vPy38\\lib\\site-packages\\sklearn\\model_selection\\_search.py\u001b[0m in \u001b[0;36m_run_search\u001b[1;34m(self, evaluate_candidates)\u001b[0m\n\u001b[0;32m   1186\u001b[0m     \u001b[1;32mdef\u001b[0m \u001b[0m_run_search\u001b[0m\u001b[1;33m(\u001b[0m\u001b[0mself\u001b[0m\u001b[1;33m,\u001b[0m \u001b[0mevaluate_candidates\u001b[0m\u001b[1;33m)\u001b[0m\u001b[1;33m:\u001b[0m\u001b[1;33m\u001b[0m\u001b[1;33m\u001b[0m\u001b[0m\n\u001b[0;32m   1187\u001b[0m         \u001b[1;34m\"\"\"Search all candidates in param_grid\"\"\"\u001b[0m\u001b[1;33m\u001b[0m\u001b[1;33m\u001b[0m\u001b[0m\n\u001b[1;32m-> 1188\u001b[1;33m         \u001b[0mevaluate_candidates\u001b[0m\u001b[1;33m(\u001b[0m\u001b[0mParameterGrid\u001b[0m\u001b[1;33m(\u001b[0m\u001b[0mself\u001b[0m\u001b[1;33m.\u001b[0m\u001b[0mparam_grid\u001b[0m\u001b[1;33m)\u001b[0m\u001b[1;33m)\u001b[0m\u001b[1;33m\u001b[0m\u001b[1;33m\u001b[0m\u001b[0m\n\u001b[0m\u001b[0;32m   1189\u001b[0m \u001b[1;33m\u001b[0m\u001b[0m\n\u001b[0;32m   1190\u001b[0m \u001b[1;33m\u001b[0m\u001b[0m\n",
      "\u001b[1;32mE:\\env\\vPy38\\lib\\site-packages\\sklearn\\model_selection\\_search.py\u001b[0m in \u001b[0;36mevaluate_candidates\u001b[1;34m(candidate_params)\u001b[0m\n\u001b[0;32m    706\u001b[0m                               n_splits, n_candidates, n_candidates * n_splits))\n\u001b[0;32m    707\u001b[0m \u001b[1;33m\u001b[0m\u001b[0m\n\u001b[1;32m--> 708\u001b[1;33m                 out = parallel(delayed(_fit_and_score)(clone(base_estimator),\n\u001b[0m\u001b[0;32m    709\u001b[0m                                                        \u001b[0mX\u001b[0m\u001b[1;33m,\u001b[0m \u001b[0my\u001b[0m\u001b[1;33m,\u001b[0m\u001b[1;33m\u001b[0m\u001b[1;33m\u001b[0m\u001b[0m\n\u001b[0;32m    710\u001b[0m                                                        \u001b[0mtrain\u001b[0m\u001b[1;33m=\u001b[0m\u001b[0mtrain\u001b[0m\u001b[1;33m,\u001b[0m \u001b[0mtest\u001b[0m\u001b[1;33m=\u001b[0m\u001b[0mtest\u001b[0m\u001b[1;33m,\u001b[0m\u001b[1;33m\u001b[0m\u001b[1;33m\u001b[0m\u001b[0m\n",
      "\u001b[1;32mE:\\env\\vPy38\\lib\\site-packages\\joblib\\parallel.py\u001b[0m in \u001b[0;36m__call__\u001b[1;34m(self, iterable)\u001b[0m\n\u001b[0;32m   1044\u001b[0m                 \u001b[0mself\u001b[0m\u001b[1;33m.\u001b[0m\u001b[0m_iterating\u001b[0m \u001b[1;33m=\u001b[0m \u001b[0mself\u001b[0m\u001b[1;33m.\u001b[0m\u001b[0m_original_iterator\u001b[0m \u001b[1;32mis\u001b[0m \u001b[1;32mnot\u001b[0m \u001b[1;32mNone\u001b[0m\u001b[1;33m\u001b[0m\u001b[1;33m\u001b[0m\u001b[0m\n\u001b[0;32m   1045\u001b[0m \u001b[1;33m\u001b[0m\u001b[0m\n\u001b[1;32m-> 1046\u001b[1;33m             \u001b[1;32mwhile\u001b[0m \u001b[0mself\u001b[0m\u001b[1;33m.\u001b[0m\u001b[0mdispatch_one_batch\u001b[0m\u001b[1;33m(\u001b[0m\u001b[0miterator\u001b[0m\u001b[1;33m)\u001b[0m\u001b[1;33m:\u001b[0m\u001b[1;33m\u001b[0m\u001b[1;33m\u001b[0m\u001b[0m\n\u001b[0m\u001b[0;32m   1047\u001b[0m                 \u001b[1;32mpass\u001b[0m\u001b[1;33m\u001b[0m\u001b[1;33m\u001b[0m\u001b[0m\n\u001b[0;32m   1048\u001b[0m \u001b[1;33m\u001b[0m\u001b[0m\n",
      "\u001b[1;32mE:\\env\\vPy38\\lib\\site-packages\\joblib\\parallel.py\u001b[0m in \u001b[0;36mdispatch_one_batch\u001b[1;34m(self, iterator)\u001b[0m\n\u001b[0;32m    859\u001b[0m                 \u001b[1;32mreturn\u001b[0m \u001b[1;32mFalse\u001b[0m\u001b[1;33m\u001b[0m\u001b[1;33m\u001b[0m\u001b[0m\n\u001b[0;32m    860\u001b[0m             \u001b[1;32melse\u001b[0m\u001b[1;33m:\u001b[0m\u001b[1;33m\u001b[0m\u001b[1;33m\u001b[0m\u001b[0m\n\u001b[1;32m--> 861\u001b[1;33m                 \u001b[0mself\u001b[0m\u001b[1;33m.\u001b[0m\u001b[0m_dispatch\u001b[0m\u001b[1;33m(\u001b[0m\u001b[0mtasks\u001b[0m\u001b[1;33m)\u001b[0m\u001b[1;33m\u001b[0m\u001b[1;33m\u001b[0m\u001b[0m\n\u001b[0m\u001b[0;32m    862\u001b[0m                 \u001b[1;32mreturn\u001b[0m \u001b[1;32mTrue\u001b[0m\u001b[1;33m\u001b[0m\u001b[1;33m\u001b[0m\u001b[0m\n\u001b[0;32m    863\u001b[0m \u001b[1;33m\u001b[0m\u001b[0m\n",
      "\u001b[1;32mE:\\env\\vPy38\\lib\\site-packages\\joblib\\parallel.py\u001b[0m in \u001b[0;36m_dispatch\u001b[1;34m(self, batch)\u001b[0m\n\u001b[0;32m    777\u001b[0m         \u001b[1;32mwith\u001b[0m \u001b[0mself\u001b[0m\u001b[1;33m.\u001b[0m\u001b[0m_lock\u001b[0m\u001b[1;33m:\u001b[0m\u001b[1;33m\u001b[0m\u001b[1;33m\u001b[0m\u001b[0m\n\u001b[0;32m    778\u001b[0m             \u001b[0mjob_idx\u001b[0m \u001b[1;33m=\u001b[0m \u001b[0mlen\u001b[0m\u001b[1;33m(\u001b[0m\u001b[0mself\u001b[0m\u001b[1;33m.\u001b[0m\u001b[0m_jobs\u001b[0m\u001b[1;33m)\u001b[0m\u001b[1;33m\u001b[0m\u001b[1;33m\u001b[0m\u001b[0m\n\u001b[1;32m--> 779\u001b[1;33m             \u001b[0mjob\u001b[0m \u001b[1;33m=\u001b[0m \u001b[0mself\u001b[0m\u001b[1;33m.\u001b[0m\u001b[0m_backend\u001b[0m\u001b[1;33m.\u001b[0m\u001b[0mapply_async\u001b[0m\u001b[1;33m(\u001b[0m\u001b[0mbatch\u001b[0m\u001b[1;33m,\u001b[0m \u001b[0mcallback\u001b[0m\u001b[1;33m=\u001b[0m\u001b[0mcb\u001b[0m\u001b[1;33m)\u001b[0m\u001b[1;33m\u001b[0m\u001b[1;33m\u001b[0m\u001b[0m\n\u001b[0m\u001b[0;32m    780\u001b[0m             \u001b[1;31m# A job can complete so quickly than its callback is\u001b[0m\u001b[1;33m\u001b[0m\u001b[1;33m\u001b[0m\u001b[1;33m\u001b[0m\u001b[0m\n\u001b[0;32m    781\u001b[0m             \u001b[1;31m# called before we get here, causing self._jobs to\u001b[0m\u001b[1;33m\u001b[0m\u001b[1;33m\u001b[0m\u001b[1;33m\u001b[0m\u001b[0m\n",
      "\u001b[1;32mE:\\env\\vPy38\\lib\\site-packages\\joblib\\_parallel_backends.py\u001b[0m in \u001b[0;36mapply_async\u001b[1;34m(self, func, callback)\u001b[0m\n\u001b[0;32m    206\u001b[0m     \u001b[1;32mdef\u001b[0m \u001b[0mapply_async\u001b[0m\u001b[1;33m(\u001b[0m\u001b[0mself\u001b[0m\u001b[1;33m,\u001b[0m \u001b[0mfunc\u001b[0m\u001b[1;33m,\u001b[0m \u001b[0mcallback\u001b[0m\u001b[1;33m=\u001b[0m\u001b[1;32mNone\u001b[0m\u001b[1;33m)\u001b[0m\u001b[1;33m:\u001b[0m\u001b[1;33m\u001b[0m\u001b[1;33m\u001b[0m\u001b[0m\n\u001b[0;32m    207\u001b[0m         \u001b[1;34m\"\"\"Schedule a func to be run\"\"\"\u001b[0m\u001b[1;33m\u001b[0m\u001b[1;33m\u001b[0m\u001b[0m\n\u001b[1;32m--> 208\u001b[1;33m         \u001b[0mresult\u001b[0m \u001b[1;33m=\u001b[0m \u001b[0mImmediateResult\u001b[0m\u001b[1;33m(\u001b[0m\u001b[0mfunc\u001b[0m\u001b[1;33m)\u001b[0m\u001b[1;33m\u001b[0m\u001b[1;33m\u001b[0m\u001b[0m\n\u001b[0m\u001b[0;32m    209\u001b[0m         \u001b[1;32mif\u001b[0m \u001b[0mcallback\u001b[0m\u001b[1;33m:\u001b[0m\u001b[1;33m\u001b[0m\u001b[1;33m\u001b[0m\u001b[0m\n\u001b[0;32m    210\u001b[0m             \u001b[0mcallback\u001b[0m\u001b[1;33m(\u001b[0m\u001b[0mresult\u001b[0m\u001b[1;33m)\u001b[0m\u001b[1;33m\u001b[0m\u001b[1;33m\u001b[0m\u001b[0m\n",
      "\u001b[1;32mE:\\env\\vPy38\\lib\\site-packages\\joblib\\_parallel_backends.py\u001b[0m in \u001b[0;36m__init__\u001b[1;34m(self, batch)\u001b[0m\n\u001b[0;32m    570\u001b[0m         \u001b[1;31m# Don't delay the application, to avoid keeping the input\u001b[0m\u001b[1;33m\u001b[0m\u001b[1;33m\u001b[0m\u001b[1;33m\u001b[0m\u001b[0m\n\u001b[0;32m    571\u001b[0m         \u001b[1;31m# arguments in memory\u001b[0m\u001b[1;33m\u001b[0m\u001b[1;33m\u001b[0m\u001b[1;33m\u001b[0m\u001b[0m\n\u001b[1;32m--> 572\u001b[1;33m         \u001b[0mself\u001b[0m\u001b[1;33m.\u001b[0m\u001b[0mresults\u001b[0m \u001b[1;33m=\u001b[0m \u001b[0mbatch\u001b[0m\u001b[1;33m(\u001b[0m\u001b[1;33m)\u001b[0m\u001b[1;33m\u001b[0m\u001b[1;33m\u001b[0m\u001b[0m\n\u001b[0m\u001b[0;32m    573\u001b[0m \u001b[1;33m\u001b[0m\u001b[0m\n\u001b[0;32m    574\u001b[0m     \u001b[1;32mdef\u001b[0m \u001b[0mget\u001b[0m\u001b[1;33m(\u001b[0m\u001b[0mself\u001b[0m\u001b[1;33m)\u001b[0m\u001b[1;33m:\u001b[0m\u001b[1;33m\u001b[0m\u001b[1;33m\u001b[0m\u001b[0m\n",
      "\u001b[1;32mE:\\env\\vPy38\\lib\\site-packages\\joblib\\parallel.py\u001b[0m in \u001b[0;36m__call__\u001b[1;34m(self)\u001b[0m\n\u001b[0;32m    260\u001b[0m         \u001b[1;31m# change the default number of processes to -1\u001b[0m\u001b[1;33m\u001b[0m\u001b[1;33m\u001b[0m\u001b[1;33m\u001b[0m\u001b[0m\n\u001b[0;32m    261\u001b[0m         \u001b[1;32mwith\u001b[0m \u001b[0mparallel_backend\u001b[0m\u001b[1;33m(\u001b[0m\u001b[0mself\u001b[0m\u001b[1;33m.\u001b[0m\u001b[0m_backend\u001b[0m\u001b[1;33m,\u001b[0m \u001b[0mn_jobs\u001b[0m\u001b[1;33m=\u001b[0m\u001b[0mself\u001b[0m\u001b[1;33m.\u001b[0m\u001b[0m_n_jobs\u001b[0m\u001b[1;33m)\u001b[0m\u001b[1;33m:\u001b[0m\u001b[1;33m\u001b[0m\u001b[1;33m\u001b[0m\u001b[0m\n\u001b[1;32m--> 262\u001b[1;33m             return [func(*args, **kwargs)\n\u001b[0m\u001b[0;32m    263\u001b[0m                     for func, args, kwargs in self.items]\n\u001b[0;32m    264\u001b[0m \u001b[1;33m\u001b[0m\u001b[0m\n",
      "\u001b[1;32mE:\\env\\vPy38\\lib\\site-packages\\joblib\\parallel.py\u001b[0m in \u001b[0;36m<listcomp>\u001b[1;34m(.0)\u001b[0m\n\u001b[0;32m    260\u001b[0m         \u001b[1;31m# change the default number of processes to -1\u001b[0m\u001b[1;33m\u001b[0m\u001b[1;33m\u001b[0m\u001b[1;33m\u001b[0m\u001b[0m\n\u001b[0;32m    261\u001b[0m         \u001b[1;32mwith\u001b[0m \u001b[0mparallel_backend\u001b[0m\u001b[1;33m(\u001b[0m\u001b[0mself\u001b[0m\u001b[1;33m.\u001b[0m\u001b[0m_backend\u001b[0m\u001b[1;33m,\u001b[0m \u001b[0mn_jobs\u001b[0m\u001b[1;33m=\u001b[0m\u001b[0mself\u001b[0m\u001b[1;33m.\u001b[0m\u001b[0m_n_jobs\u001b[0m\u001b[1;33m)\u001b[0m\u001b[1;33m:\u001b[0m\u001b[1;33m\u001b[0m\u001b[1;33m\u001b[0m\u001b[0m\n\u001b[1;32m--> 262\u001b[1;33m             return [func(*args, **kwargs)\n\u001b[0m\u001b[0;32m    263\u001b[0m                     for func, args, kwargs in self.items]\n\u001b[0;32m    264\u001b[0m \u001b[1;33m\u001b[0m\u001b[0m\n",
      "\u001b[1;32mE:\\env\\vPy38\\lib\\site-packages\\sklearn\\model_selection\\_validation.py\u001b[0m in \u001b[0;36m_fit_and_score\u001b[1;34m(estimator, X, y, scorer, train, test, verbose, parameters, fit_params, return_train_score, return_parameters, return_n_test_samples, return_times, return_estimator, error_score)\u001b[0m\n\u001b[0;32m    529\u001b[0m             \u001b[0mestimator\u001b[0m\u001b[1;33m.\u001b[0m\u001b[0mfit\u001b[0m\u001b[1;33m(\u001b[0m\u001b[0mX_train\u001b[0m\u001b[1;33m,\u001b[0m \u001b[1;33m**\u001b[0m\u001b[0mfit_params\u001b[0m\u001b[1;33m)\u001b[0m\u001b[1;33m\u001b[0m\u001b[1;33m\u001b[0m\u001b[0m\n\u001b[0;32m    530\u001b[0m         \u001b[1;32melse\u001b[0m\u001b[1;33m:\u001b[0m\u001b[1;33m\u001b[0m\u001b[1;33m\u001b[0m\u001b[0m\n\u001b[1;32m--> 531\u001b[1;33m             \u001b[0mestimator\u001b[0m\u001b[1;33m.\u001b[0m\u001b[0mfit\u001b[0m\u001b[1;33m(\u001b[0m\u001b[0mX_train\u001b[0m\u001b[1;33m,\u001b[0m \u001b[0my_train\u001b[0m\u001b[1;33m,\u001b[0m \u001b[1;33m**\u001b[0m\u001b[0mfit_params\u001b[0m\u001b[1;33m)\u001b[0m\u001b[1;33m\u001b[0m\u001b[1;33m\u001b[0m\u001b[0m\n\u001b[0m\u001b[0;32m    532\u001b[0m \u001b[1;33m\u001b[0m\u001b[0m\n\u001b[0;32m    533\u001b[0m     \u001b[1;32mexcept\u001b[0m \u001b[0mException\u001b[0m \u001b[1;32mas\u001b[0m \u001b[0me\u001b[0m\u001b[1;33m:\u001b[0m\u001b[1;33m\u001b[0m\u001b[1;33m\u001b[0m\u001b[0m\n",
      "\u001b[1;32mE:\\env\\vPy38\\lib\\site-packages\\xgboost\\core.py\u001b[0m in \u001b[0;36minner_f\u001b[1;34m(*args, **kwargs)\u001b[0m\n\u001b[0;32m    573\u001b[0m         \u001b[1;32mfor\u001b[0m \u001b[0mk\u001b[0m\u001b[1;33m,\u001b[0m \u001b[0marg\u001b[0m \u001b[1;32min\u001b[0m \u001b[0mzip\u001b[0m\u001b[1;33m(\u001b[0m\u001b[0msig\u001b[0m\u001b[1;33m.\u001b[0m\u001b[0mparameters\u001b[0m\u001b[1;33m,\u001b[0m \u001b[0margs\u001b[0m\u001b[1;33m)\u001b[0m\u001b[1;33m:\u001b[0m\u001b[1;33m\u001b[0m\u001b[1;33m\u001b[0m\u001b[0m\n\u001b[0;32m    574\u001b[0m             \u001b[0mkwargs\u001b[0m\u001b[1;33m[\u001b[0m\u001b[0mk\u001b[0m\u001b[1;33m]\u001b[0m \u001b[1;33m=\u001b[0m \u001b[0marg\u001b[0m\u001b[1;33m\u001b[0m\u001b[1;33m\u001b[0m\u001b[0m\n\u001b[1;32m--> 575\u001b[1;33m         \u001b[1;32mreturn\u001b[0m \u001b[0mf\u001b[0m\u001b[1;33m(\u001b[0m\u001b[1;33m**\u001b[0m\u001b[0mkwargs\u001b[0m\u001b[1;33m)\u001b[0m\u001b[1;33m\u001b[0m\u001b[1;33m\u001b[0m\u001b[0m\n\u001b[0m\u001b[0;32m    576\u001b[0m \u001b[1;33m\u001b[0m\u001b[0m\n\u001b[0;32m    577\u001b[0m     \u001b[1;32mreturn\u001b[0m \u001b[0minner_f\u001b[0m\u001b[1;33m\u001b[0m\u001b[1;33m\u001b[0m\u001b[0m\n",
      "\u001b[1;32mE:\\env\\vPy38\\lib\\site-packages\\xgboost\\sklearn.py\u001b[0m in \u001b[0;36mfit\u001b[1;34m(self, X, y, sample_weight, base_margin, eval_set, eval_metric, early_stopping_rounds, verbose, xgb_model, sample_weight_eval_set, base_margin_eval_set, feature_weights, callbacks)\u001b[0m\n\u001b[0;32m   1398\u001b[0m         )\n\u001b[0;32m   1399\u001b[0m \u001b[1;33m\u001b[0m\u001b[0m\n\u001b[1;32m-> 1400\u001b[1;33m         self._Booster = train(\n\u001b[0m\u001b[0;32m   1401\u001b[0m             \u001b[0mparams\u001b[0m\u001b[1;33m,\u001b[0m\u001b[1;33m\u001b[0m\u001b[1;33m\u001b[0m\u001b[0m\n\u001b[0;32m   1402\u001b[0m             \u001b[0mtrain_dmatrix\u001b[0m\u001b[1;33m,\u001b[0m\u001b[1;33m\u001b[0m\u001b[1;33m\u001b[0m\u001b[0m\n",
      "\u001b[1;32mE:\\env\\vPy38\\lib\\site-packages\\xgboost\\core.py\u001b[0m in \u001b[0;36minner_f\u001b[1;34m(*args, **kwargs)\u001b[0m\n\u001b[0;32m    573\u001b[0m         \u001b[1;32mfor\u001b[0m \u001b[0mk\u001b[0m\u001b[1;33m,\u001b[0m \u001b[0marg\u001b[0m \u001b[1;32min\u001b[0m \u001b[0mzip\u001b[0m\u001b[1;33m(\u001b[0m\u001b[0msig\u001b[0m\u001b[1;33m.\u001b[0m\u001b[0mparameters\u001b[0m\u001b[1;33m,\u001b[0m \u001b[0margs\u001b[0m\u001b[1;33m)\u001b[0m\u001b[1;33m:\u001b[0m\u001b[1;33m\u001b[0m\u001b[1;33m\u001b[0m\u001b[0m\n\u001b[0;32m    574\u001b[0m             \u001b[0mkwargs\u001b[0m\u001b[1;33m[\u001b[0m\u001b[0mk\u001b[0m\u001b[1;33m]\u001b[0m \u001b[1;33m=\u001b[0m \u001b[0marg\u001b[0m\u001b[1;33m\u001b[0m\u001b[1;33m\u001b[0m\u001b[0m\n\u001b[1;32m--> 575\u001b[1;33m         \u001b[1;32mreturn\u001b[0m \u001b[0mf\u001b[0m\u001b[1;33m(\u001b[0m\u001b[1;33m**\u001b[0m\u001b[0mkwargs\u001b[0m\u001b[1;33m)\u001b[0m\u001b[1;33m\u001b[0m\u001b[1;33m\u001b[0m\u001b[0m\n\u001b[0m\u001b[0;32m    576\u001b[0m \u001b[1;33m\u001b[0m\u001b[0m\n\u001b[0;32m    577\u001b[0m     \u001b[1;32mreturn\u001b[0m \u001b[0minner_f\u001b[0m\u001b[1;33m\u001b[0m\u001b[1;33m\u001b[0m\u001b[0m\n",
      "\u001b[1;32mE:\\env\\vPy38\\lib\\site-packages\\xgboost\\training.py\u001b[0m in \u001b[0;36mtrain\u001b[1;34m(params, dtrain, num_boost_round, evals, obj, feval, maximize, early_stopping_rounds, evals_result, verbose_eval, xgb_model, callbacks, custom_metric)\u001b[0m\n\u001b[0;32m    179\u001b[0m         \u001b[1;32mif\u001b[0m \u001b[0mcb_container\u001b[0m\u001b[1;33m.\u001b[0m\u001b[0mbefore_iteration\u001b[0m\u001b[1;33m(\u001b[0m\u001b[0mbst\u001b[0m\u001b[1;33m,\u001b[0m \u001b[0mi\u001b[0m\u001b[1;33m,\u001b[0m \u001b[0mdtrain\u001b[0m\u001b[1;33m,\u001b[0m \u001b[0mevals\u001b[0m\u001b[1;33m)\u001b[0m\u001b[1;33m:\u001b[0m\u001b[1;33m\u001b[0m\u001b[1;33m\u001b[0m\u001b[0m\n\u001b[0;32m    180\u001b[0m             \u001b[1;32mbreak\u001b[0m\u001b[1;33m\u001b[0m\u001b[1;33m\u001b[0m\u001b[0m\n\u001b[1;32m--> 181\u001b[1;33m         \u001b[0mbst\u001b[0m\u001b[1;33m.\u001b[0m\u001b[0mupdate\u001b[0m\u001b[1;33m(\u001b[0m\u001b[0mdtrain\u001b[0m\u001b[1;33m,\u001b[0m \u001b[0mi\u001b[0m\u001b[1;33m,\u001b[0m \u001b[0mobj\u001b[0m\u001b[1;33m)\u001b[0m\u001b[1;33m\u001b[0m\u001b[1;33m\u001b[0m\u001b[0m\n\u001b[0m\u001b[0;32m    182\u001b[0m         \u001b[1;32mif\u001b[0m \u001b[0mcb_container\u001b[0m\u001b[1;33m.\u001b[0m\u001b[0mafter_iteration\u001b[0m\u001b[1;33m(\u001b[0m\u001b[0mbst\u001b[0m\u001b[1;33m,\u001b[0m \u001b[0mi\u001b[0m\u001b[1;33m,\u001b[0m \u001b[0mdtrain\u001b[0m\u001b[1;33m,\u001b[0m \u001b[0mevals\u001b[0m\u001b[1;33m)\u001b[0m\u001b[1;33m:\u001b[0m\u001b[1;33m\u001b[0m\u001b[1;33m\u001b[0m\u001b[0m\n\u001b[0;32m    183\u001b[0m             \u001b[1;32mbreak\u001b[0m\u001b[1;33m\u001b[0m\u001b[1;33m\u001b[0m\u001b[0m\n",
      "\u001b[1;32mE:\\env\\vPy38\\lib\\site-packages\\xgboost\\core.py\u001b[0m in \u001b[0;36mupdate\u001b[1;34m(self, dtrain, iteration, fobj)\u001b[0m\n\u001b[0;32m   1776\u001b[0m \u001b[1;33m\u001b[0m\u001b[0m\n\u001b[0;32m   1777\u001b[0m         \u001b[1;32mif\u001b[0m \u001b[0mfobj\u001b[0m \u001b[1;32mis\u001b[0m \u001b[1;32mNone\u001b[0m\u001b[1;33m:\u001b[0m\u001b[1;33m\u001b[0m\u001b[1;33m\u001b[0m\u001b[0m\n\u001b[1;32m-> 1778\u001b[1;33m             _check_call(_LIB.XGBoosterUpdateOneIter(self.handle,\n\u001b[0m\u001b[0;32m   1779\u001b[0m                                                     \u001b[0mctypes\u001b[0m\u001b[1;33m.\u001b[0m\u001b[0mc_int\u001b[0m\u001b[1;33m(\u001b[0m\u001b[0miteration\u001b[0m\u001b[1;33m)\u001b[0m\u001b[1;33m,\u001b[0m\u001b[1;33m\u001b[0m\u001b[1;33m\u001b[0m\u001b[0m\n\u001b[0;32m   1780\u001b[0m                                                     dtrain.handle))\n",
      "\u001b[1;31mKeyboardInterrupt\u001b[0m: "
     ]
    }
   ],
   "source": [
    "# 預設做5個交叉驗證*2*2*2*2 =80次,大約40分\n",
    "\n",
    "from sklearn.model_selection import GridSearchCV\n",
    "\n",
    "# params = { 'max_depth': [3,6,10],\n",
    "#            'learning_rate': [0.01, 0.05, 0.1],\n",
    "#            'n_estimators': [100, 500, 1000],\n",
    "#            'colsample_bytree': [0.3, 0.7]}\n",
    "\n",
    "\n",
    "params = { 'max_depth': [3,6],  #   每顆樹的最大深度\n",
    "           'learning_rate': [0.01, 0.1], # 學習率\n",
    "           'n_estimators': [100, 500],     # 樹的數量\n",
    "           'colsample_bytree': [0.3, 0.7]} # 每次建樹可以使用多少比例的features\n",
    "          \n",
    "XGB = XGBClassifier(random_state=1)\n",
    "grid_search = GridSearchCV(estimator=XGB, \n",
    "                   param_grid=params,\n",
    "                   scoring='neg_mean_squared_error', \n",
    "                   verbose=1)\n",
    "\n",
    "grid_search.fit(X_train1, y_train1)\n",
    "bestimator = grid_search.best_estimator_\n",
    "ypred = bestimator.predict(X_test)"
   ]
  },
  {
   "cell_type": "code",
   "execution_count": null,
   "metadata": {},
   "outputs": [],
   "source": [
    "# from imblearn.over_sampling import RandomOverSampler,SMOTE # pip install imbalanced-learn\n",
    "# from imblearn.pipeline import make_pipeline, Pipeline\n",
    "# from sklearn.model_selection import train_test_split, GridSearchCV, RandomizedSearchCV, cross_val_score, KFold, RepeatedStratifiedKFold\n",
    "# from xgboost import XGBClassifier\n",
    "\n",
    "# XGB = XGBClassifier()\n",
    "\n",
    "# #kf = KFold(n_splits=10, random_state=1, shuffle=True)\n",
    "# kf = KFold(n_splits=3, random_state=1, shuffle=True) # 使用交叉驗證，先設少一點,設為3\n",
    "\n",
    "# sampler = SMOTE(random_state=1) # 使用SMOTE抽樣\n",
    "\n",
    "# # 4*5*4=80種組合\n",
    "# # rs_parameters = {\n",
    "# #     'lgbmclassifier__learning_rate': [0.005,0.01,0.001,0.05],\n",
    "# #     'lgbmclassifier__n_estimators': [20,40,60,80,100],\n",
    "# #     'lgbmclassifier__num_leaves': [6,8,12,16]\n",
    "# #     }\n",
    "\n",
    "# #  2*2*1*3=12種組合 (最後一個3是n_split)\n",
    "# params = {\n",
    "#     'max_depth': [6,10],\n",
    "#     'learning_rate': [0.01, 0.001],\n",
    "#     'n_estimators': [100,500]\n",
    "    \n",
    "#     }\n",
    "\n",
    "\n",
    "# # 串聯成工作流\n",
    "# smp_pipeline = make_pipeline(sampler, XGB) #  第2個參數是前面定義的lgb分類器名稱(不同模型會有不同名稱)\n",
    "\n",
    "\n",
    "# grid_search = GridSearchCV(estimator=smp_pipeline,\n",
    "#                          param_grid=params,\n",
    "#                          scoring='roc_auc',\n",
    "#                          verbose=True\n",
    "#                         )\n",
    "\n",
    "\n",
    "# grid_search.fit(X_train1, y_train1)\n",
    "# bestimator = grid_search.best_estimator_\n",
    "# ypred = bestimator.predict(X_test)"
   ]
  },
  {
   "cell_type": "code",
   "execution_count": null,
   "metadata": {},
   "outputs": [],
   "source": [
    "# 訓練準確率\n",
    "\n",
    "XGB_score = bestimator.score(X_train1, y_train1)\n",
    "print('XGB訓練分數:',(XGB_score))"
   ]
  },
  {
   "cell_type": "code",
   "execution_count": null,
   "metadata": {},
   "outputs": [],
   "source": [
    "# 測試準確率\n",
    "\n",
    "XGBtest_score=bestimator.score(X_test,y_test)\n",
    "print('XGB測試分數:', XGBtest_score)"
   ]
  },
  {
   "cell_type": "code",
   "execution_count": null,
   "metadata": {},
   "outputs": [],
   "source": [
    "print(classification_report(y_test,ypred))\n",
    "print(confusion_matrix(y_test,ypred))"
   ]
  },
  {
   "cell_type": "markdown",
   "metadata": {},
   "source": [
    "### 最佳參數"
   ]
  },
  {
   "cell_type": "code",
   "execution_count": null,
   "metadata": {},
   "outputs": [],
   "source": [
    "grid_search.best_params_"
   ]
  },
  {
   "cell_type": "code",
   "execution_count": null,
   "metadata": {},
   "outputs": [],
   "source": [
    "grid_search.best_estimator_"
   ]
  },
  {
   "cell_type": "code",
   "execution_count": null,
   "metadata": {},
   "outputs": [],
   "source": []
  },
  {
   "cell_type": "markdown",
   "metadata": {},
   "source": [
    "# ExtraTrees集成"
   ]
  },
  {
   "cell_type": "markdown",
   "metadata": {},
   "source": [
    "## 訓練"
   ]
  },
  {
   "cell_type": "code",
   "execution_count": null,
   "metadata": {},
   "outputs": [],
   "source": [
    "%%time\n",
    "\n",
    "from sklearn.ensemble import ExtraTreesClassifier\n",
    "\n",
    "# 深度、樹的數目、gini或entropy\n",
    "#ETreec = ExtraTreesClassifier(max_depth=5,n_estimators=100,criterion='gini', random_state=1)\n",
    "ETreec = ExtraTreesClassifier(max_depth=7,n_estimators=1000,criterion='gini', random_state=1)\n",
    "ETreec.fit(X_train, y_train)\n",
    "ETree_pred=ETreec.predict(X_test)\n",
    "#print(ETree_pred)\n",
    "\n"
   ]
  },
  {
   "cell_type": "code",
   "execution_count": null,
   "metadata": {},
   "outputs": [],
   "source": [
    "# 訓練\n",
    "\n",
    "ETreetrain_score=ETreec.score(X_train, y_train)\n",
    "print(\"訓練評分: %0.4f%% \" % (ETreetrain_score * 100))\n"
   ]
  },
  {
   "cell_type": "markdown",
   "metadata": {},
   "source": [
    "## 測試"
   ]
  },
  {
   "cell_type": "code",
   "execution_count": null,
   "metadata": {},
   "outputs": [],
   "source": [
    "# 測試\n",
    "\n",
    "ETreetest_score=ETreec.score(X_test,y_test)\n",
    "#print('The Accuracy of ExtraTrees Classifier on testing set:', ETreetest_score)\n",
    "print(\"測試準確度(正確率, Accuracy): %0.4f%% \" % (ETreetest_score * 100))"
   ]
  },
  {
   "cell_type": "code",
   "execution_count": null,
   "metadata": {},
   "outputs": [],
   "source": [
    "print(classification_report(y_test,ETree_pred))\n",
    "print(confusion_matrix(y_test,ETree_pred))"
   ]
  },
  {
   "cell_type": "markdown",
   "metadata": {},
   "source": [
    "## 門檻值"
   ]
  },
  {
   "cell_type": "code",
   "execution_count": null,
   "metadata": {},
   "outputs": [],
   "source": [
    "from sklearn.metrics import mean_squared_error\n",
    "from sklearn.metrics import mean_absolute_error\n",
    "from math import sqrt\n",
    "import numpy as np\n",
    "\n",
    "MSE = mean_squared_error(y_test, ETree_pred)\n",
    "print('MSE=',MSE)\n",
    "RMSE =np.sqrt(MSE)\n",
    "print('RMSE=',RMSE)\n",
    "MAE= mean_absolute_error(y_test, ETree_pred)\n",
    "print('MAE=',MAE)\n",
    "\n",
    "R2=1-MSE/np.var(y_test)\n",
    "print(\"R2:\", R2)\n"
   ]
  },
  {
   "cell_type": "code",
   "execution_count": null,
   "metadata": {},
   "outputs": [],
   "source": [
    "ytest = []\n",
    "for value in y_test:\n",
    "    ytest.append(value)\n",
    "count=0\n",
    "errvalue=abs((ytest-ETree_pred)/ytest)\n",
    "errvalue"
   ]
  },
  {
   "cell_type": "code",
   "execution_count": null,
   "metadata": {},
   "outputs": [],
   "source": [
    "threshold=0.01  #門檻值\n",
    "for i in range(len(errvalue)):\n",
    "    if errvalue[i]<0.01:           \n",
    "        count=count+1\n",
    "print(\"通過門檻筆數\",count)\n",
    "print(\"通過門檻百分比\",count/len(errvalue))"
   ]
  },
  {
   "cell_type": "code",
   "execution_count": null,
   "metadata": {},
   "outputs": [],
   "source": []
  },
  {
   "cell_type": "markdown",
   "metadata": {},
   "source": [
    "# AdaBoost"
   ]
  },
  {
   "cell_type": "markdown",
   "metadata": {},
   "source": [
    "## 訓練"
   ]
  },
  {
   "cell_type": "code",
   "execution_count": null,
   "metadata": {},
   "outputs": [],
   "source": [
    "from sklearn.ensemble import AdaBoostClassifier\n",
    "\n",
    "# n_estimators預設50, learning_rate=1.0\n",
    "# 有overfitting , 樹少一點500減到400，學習率少一些如0.2\n",
    "AdaBoostc = AdaBoostClassifier(random_state=1,n_estimators=500, learning_rate=0.5,) "
   ]
  },
  {
   "cell_type": "code",
   "execution_count": null,
   "metadata": {},
   "outputs": [],
   "source": [
    "%%time\n",
    "\n",
    "AdaBoostc.fit(X_train, y_train)\n",
    "AdaBoostc_pred=AdaBoostc.predict(X_test)\n",
    "\n",
    "AdaBoosttrain_score=AdaBoostc.score(X_train, y_train)\n",
    "print(\"訓練評分: %0.4f%% \" % (AdaBoosttrain_score * 100))\n",
    "#print(AdaBoosttrain_score)\n",
    "#print(AdaBoostc_pred)"
   ]
  },
  {
   "cell_type": "markdown",
   "metadata": {},
   "source": [
    "## 測試"
   ]
  },
  {
   "cell_type": "code",
   "execution_count": null,
   "metadata": {},
   "outputs": [],
   "source": [
    "AdaBoosttest_score=AdaBoostc.score(X_test,y_test)\n",
    "\n",
    "print(\"The Accuracy of AdaBoost 測試正確率:\" % (AdaBoosttest_score * 100))"
   ]
  },
  {
   "cell_type": "code",
   "execution_count": null,
   "metadata": {},
   "outputs": [],
   "source": [
    "print(classification_report(y_test,AdaBoostc_pred))\n",
    "print(confusion_matrix(y_test,AdaBoostc_pred))"
   ]
  },
  {
   "cell_type": "markdown",
   "metadata": {},
   "source": [
    "## 門檻值"
   ]
  },
  {
   "cell_type": "code",
   "execution_count": null,
   "metadata": {},
   "outputs": [],
   "source": [
    "from sklearn.metrics import mean_squared_error\n",
    "from sklearn.metrics import mean_absolute_error\n",
    "from math import sqrt\n",
    "import numpy as np\n",
    "\n",
    "MSE = mean_squared_error(y_test, ETree_pred)\n",
    "print('MSE=',MSE)\n",
    "RMSE =np.sqrt(MSE)\n",
    "print('RMSE=',RMSE)\n",
    "MAE= mean_absolute_error(y_test, ETree_pred)\n",
    "print('MAE=',MAE)\n",
    "\n",
    "R2=1-MSE/np.var(y_test)\n",
    "print(\"R2:\", R2)\n"
   ]
  },
  {
   "cell_type": "code",
   "execution_count": null,
   "metadata": {},
   "outputs": [],
   "source": [
    "ytest = []\n",
    "for value in y_test:\n",
    "    ytest.append(value)\n",
    "count=0\n",
    "errvalue=abs((ytest-ETree_pred)/ytest)\n",
    "errvalue"
   ]
  },
  {
   "cell_type": "code",
   "execution_count": null,
   "metadata": {},
   "outputs": [],
   "source": [
    "threshold=0.01  #門檻值\n",
    "for i in range(len(errvalue)):\n",
    "    if errvalue[i]<0.01:           \n",
    "        count=count+1\n",
    "print(\"通過門檻筆數\",count)\n",
    "print(\"通過門檻百分比\",count/len(errvalue))"
   ]
  },
  {
   "cell_type": "code",
   "execution_count": null,
   "metadata": {},
   "outputs": [],
   "source": []
  },
  {
   "cell_type": "markdown",
   "metadata": {},
   "source": [
    "# ★LightGBM\n",
    "\n",
    "LightGBM 是一個梯度提升框架，它使用基於樹的學習算法。它被設計為分佈式和高效的，具有以下優點:\n",
    "1. 更快的訓練速度和更高的效率：Light GBM 使用基於直方圖的算法，即將連續特徵值分桶到離散的 bin 中，從而加快訓練過程。\n",
    "2. 較低的內存使用：將連續值替換為離散的 bin，從而降低內存使用。\n",
    "3. 比任何其他 boosting 算法更好的準確性：它通過遵循葉級分割方法而不是水平級方法生成更複雜的樹，這是實現更高準確性的\n",
    "   主要因素。但是，它有時會導致過度擬合，這可以通過設置 max_depth 參數來避免。\n",
    "4. 與大型數據集的兼容性：它能夠在大型數據集上表現同樣出色，並顯著減少訓練時間。\n",
    "5. 支持平行學習"
   ]
  },
  {
   "cell_type": "markdown",
   "metadata": {},
   "source": [
    "## python版GBM"
   ]
  },
  {
   "cell_type": "markdown",
   "metadata": {},
   "source": [
    "### 訓練"
   ]
  },
  {
   "cell_type": "code",
   "execution_count": null,
   "metadata": {},
   "outputs": [],
   "source": [
    "import numpy as np\n",
    "import pandas as pd\n",
    "import lightgbm as lgb\n",
    "from sklearn.preprocessing import LabelBinarizer\n"
   ]
  },
  {
   "cell_type": "code",
   "execution_count": null,
   "metadata": {},
   "outputs": [],
   "source": [
    "%%time\n",
    "\n",
    "lgbmc = lgb.LGBMClassifier(random_state=1)\n",
    "\n",
    "lgbmc_model = lgbmc.fit(X_train1, y_train1)\n",
    "with open('lgbmc_model.pickle', 'wb') as fw:\n",
    "    pickle.dump(lgbmc_model, fw)\n",
    "\n",
    "y_pred=lgbmc.predict(X_test)\n",
    "LGBMtrain_score=lgbmc.score(X_train1, y_train1)\n",
    "print(LGBMtrain_score)"
   ]
  },
  {
   "cell_type": "markdown",
   "metadata": {},
   "source": [
    "### 測試"
   ]
  },
  {
   "cell_type": "code",
   "execution_count": null,
   "metadata": {},
   "outputs": [],
   "source": [
    "# 測試準確率\n",
    "\n",
    "LGBMtest_score=lgbmc.score(X_test,y_test)\n",
    "print('The Accuracy of LightGBM Classifier on testing set:', LGBMtest_score)"
   ]
  },
  {
   "cell_type": "code",
   "execution_count": null,
   "metadata": {},
   "outputs": [],
   "source": [
    "# 分類報告和混淆矩陣\n",
    "\n",
    "print(classification_report(y_test,y_pred))\n",
    "print(confusion_matrix(y_test,y_pred))"
   ]
  },
  {
   "attachments": {
    "image.png": {
     "image/png": "[encoded data removed]"
    }
   },
   "cell_type": "markdown",
   "metadata": {},
   "source": [
    "### ★網格搜尋(Grid Search)和pipeline\n",
    "\n",
    "**說明：**\n",
    "* 用於各種模型，選出最佳參數組合\n",
    "* 會跑好個小時甚至1天，請用colab跑\n",
    "\n",
    "**Pipeline:**\n",
    "* 大多數機器學習應用不僅需要應用單個算法，而且還需要將許多不同的處理步驟和機器學習模型鏈接在一起，例如對數據進行縮放，\n",
    "  然後手動合併特徵，再利用無監督學習來學習特徵。\n",
    "* 爲了簡化構建變換和模型鏈的過程，Scikit-Learn提供了pipeline類，可以將`多個處理步驟合併爲單個Scikit-Learn估計器`。\n",
    "* `pipeline類別本身具有fit、predict和score方法，其行爲與Scikit-Learn中的其他模型相同`\n",
    "* 它可以將許多算法模型串聯起來，可以用於把多個estamitors級聯成一個estamitor,比如將特徵提取、標準化、分類等組織在一起\n",
    "  形成一個典型的`機器學習問題工作流`\n",
    "  \n",
    "  \n",
    "**交叉驗證(cross validiation)：**\n",
    "* 將資料分成10等份，其中第1等分用來當作驗證的測試資料，其餘9份拿來訓練，下一輪我們繼續將第2等分拿來當作驗證的測試資料，\n",
    "  其餘9份一樣拿來訓練，總共做10次。\n",
    "* 藉著將10次的準確性(Accuracy)平均，而這個得到的平均值，準確度比較沒有偏差。\n",
    "\n",
    "圖：\n",
    "![image.png](attachment:image.png)\n"
   ]
  },
  {
   "cell_type": "markdown",
   "metadata": {},
   "source": [
    "#### 網格訓練"
   ]
  },
  {
   "cell_type": "code",
   "execution_count": null,
   "metadata": {},
   "outputs": [],
   "source": [
    "%%time\n",
    "\n",
    "# 3分\n",
    "\n",
    "from imblearn.over_sampling import RandomOverSampler,SMOTE # pip install imbalanced-learn\n",
    "from imblearn.pipeline import make_pipeline, Pipeline\n",
    "from sklearn.model_selection import train_test_split, GridSearchCV, RandomizedSearchCV, cross_val_score, KFold, RepeatedStratifiedKFold\n",
    "\n",
    "#kf = KFold(n_splits=10, random_state=1, shuffle=True)\n",
    "kf = KFold(n_splits=3, random_state=1, shuffle=True) # 使用交叉驗證，先設少一點,設為3\n",
    "\n",
    "sampler = SMOTE(random_state=1) # 使用SMOTE抽樣\n",
    "\n",
    "#4*5*4=80種組合\n",
    "# rs_parameters = {\n",
    "#     'lgbmclassifier__learning_rate': [0.005,0.01,0.001,0.05],\n",
    "#     'lgbmclassifier__n_estimators': [20,40,60,80,100],\n",
    "#     'lgbmclassifier__num_leaves': [6,8,12,16]\n",
    "#     }\n",
    "\n",
    "# 2*2*1*3=12種組合 (最後一個3是n_split)\n",
    "rs_parameters = {\n",
    "    'lgbmclassifier__learning_rate': [0.01,0.001],\n",
    "    'lgbmclassifier__n_estimators': [20,40],\n",
    "    'lgbmclassifier__num_leaves': [6]\n",
    "    }\n",
    "\n",
    "\n",
    "# 串聯成工作流\n",
    "smp_pipeline = make_pipeline(sampler, lgbmc) #  第2個參數是前面定義的lgb分類器名稱(不同模型會有不同名稱)\n",
    "\n",
    "\n",
    "grid_search = GridSearchCV(smp_pipeline,\n",
    "                         param_grid=rs_parameters,\n",
    "                         cv=kf,  # 交叉驗證\n",
    "                         scoring='roc_auc',\n",
    "                         return_train_score=True,\n",
    "                         n_jobs=-1, # 1是使用GPU\n",
    "                         verbose=True\n",
    "                        )\n",
    "\n",
    "\n",
    "grid_search.fit(X_train1, y_train1)\n",
    "bestimator = grid_search.best_estimator_\n",
    "ypred = bestimator.predict(X_test)"
   ]
  },
  {
   "cell_type": "code",
   "execution_count": null,
   "metadata": {},
   "outputs": [],
   "source": [
    "print('採樣後, 訓練資料集狀況:',Counter(y_train1))"
   ]
  },
  {
   "cell_type": "code",
   "execution_count": null,
   "metadata": {},
   "outputs": [],
   "source": [
    "# 訓練準確率\n",
    "\n",
    "lgbm_score = bestimator.score(X_train1, y_train1)\n",
    "print(lgbm_score)"
   ]
  },
  {
   "cell_type": "code",
   "execution_count": null,
   "metadata": {},
   "outputs": [],
   "source": [
    "# 測試準確率\n",
    "\n",
    "lgbmtest_score=bestimator.score(X_test,y_test)\n",
    "print('The Accuracy of LightGBM Classifier on testing set:', lgbmtest_score)"
   ]
  },
  {
   "cell_type": "code",
   "execution_count": null,
   "metadata": {},
   "outputs": [],
   "source": [
    "print(classification_report(y_test,y_pred))\n",
    "print(confusion_matrix(y_test,y_pred))"
   ]
  },
  {
   "cell_type": "markdown",
   "metadata": {},
   "source": [
    "#### 最佳參數"
   ]
  },
  {
   "cell_type": "code",
   "execution_count": null,
   "metadata": {},
   "outputs": [],
   "source": [
    "grid_search.best_params_"
   ]
  },
  {
   "cell_type": "code",
   "execution_count": null,
   "metadata": {},
   "outputs": [],
   "source": [
    "grid_search.best_estimator_"
   ]
  },
  {
   "cell_type": "code",
   "execution_count": null,
   "metadata": {},
   "outputs": [],
   "source": []
  },
  {
   "cell_type": "markdown",
   "metadata": {},
   "source": [
    "## sklearn版GBM"
   ]
  },
  {
   "cell_type": "markdown",
   "metadata": {},
   "source": [
    "### 訓練"
   ]
  },
  {
   "cell_type": "code",
   "execution_count": null,
   "metadata": {},
   "outputs": [],
   "source": [
    "%%time\n",
    "\n",
    "from sklearn.ensemble import GradientBoostingClassifier\n",
    "\n",
    "LGBM = GradientBoostingClassifier(n_estimators=100, learning_rate=1.0,max_depth=1, random_state=1)\n",
    "LGBM.fit(X_train1, y_train1)\n",
    "y_pred=LGBM.predict(X_test)\n",
    "\n",
    "LGBMtrain_score=lgbmc.score(X_train1, y_train1)\n",
    "print(LGBMtrain_score)"
   ]
  },
  {
   "cell_type": "markdown",
   "metadata": {},
   "source": [
    "### 測試"
   ]
  },
  {
   "cell_type": "code",
   "execution_count": null,
   "metadata": {},
   "outputs": [],
   "source": [
    "LGBMtest_score=lgbmc.score(X_test,y_test)\n",
    "print('The Accuracy of LightGBM Classifier on testing set:', LGBMtest_score)"
   ]
  },
  {
   "cell_type": "code",
   "execution_count": null,
   "metadata": {},
   "outputs": [],
   "source": [
    "print(classification_report(y_test,y_pred))\n",
    "print(confusion_matrix(y_test,y_pred))"
   ]
  },
  {
   "cell_type": "code",
   "execution_count": null,
   "metadata": {},
   "outputs": [],
   "source": []
  },
  {
   "cell_type": "markdown",
   "metadata": {},
   "source": [
    "# CatBoost"
   ]
  },
  {
   "cell_type": "code",
   "execution_count": null,
   "metadata": {},
   "outputs": [],
   "source": [
    "# !pip install catboost\n",
    "# !pip install ipywidgets\n",
    "# !jupyter nbextension enable --py widgetsnbextension"
   ]
  },
  {
   "cell_type": "markdown",
   "metadata": {},
   "source": [
    "## 訓練"
   ]
  },
  {
   "cell_type": "code",
   "execution_count": null,
   "metadata": {},
   "outputs": [],
   "source": [
    "%%time\n",
    "\n",
    "import numpy as np\n",
    "import pandas as pd\n",
    "import matplotlib.pyplot as plt\n",
    "# plt.style.use('ggplot') \n",
    "import seaborn as sns\n",
    "from catboost import CatBoostClassifier, Pool, cv\n",
    "from sklearn.metrics import accuracy_score\n",
    "from sklearn.preprocessing import MinMaxScaler\n",
    "from sklearn.feature_selection import VarianceThreshold\n",
    "\n",
    "CatBc = CatBoostClassifier(iterations=20, learning_rate=1, depth=2, loss_function='MultiClass', random_state=1)\n",
    "\n",
    "CatBc.fit(X_train, y_train)\n",
    "CatBtrain_score=CatBc.score(X_train, y_train)\n",
    "print(\"訓練評分: %0.4f%% \" % (CatBtrain_score * 100))\n"
   ]
  },
  {
   "cell_type": "code",
   "execution_count": null,
   "metadata": {},
   "outputs": [],
   "source": []
  },
  {
   "cell_type": "markdown",
   "metadata": {},
   "source": [
    "## 測試(留意正確率參數不同)"
   ]
  },
  {
   "cell_type": "code",
   "execution_count": null,
   "metadata": {},
   "outputs": [],
   "source": [
    "y_pred=CatBc.predict(X_test)\n",
    "#print(CatB_pred)\n",
    "\n",
    "#CatBest_score=CatBc.score(X_test,y_test)\n",
    "\n",
    "CatBest_score=CatBc.score(X_test,y_test) # 和之前模型不同。y_test, y_pred\n",
    "print('CatBOOST Classifier 測試正確率:',CatBest_score)\n"
   ]
  },
  {
   "cell_type": "code",
   "execution_count": null,
   "metadata": {},
   "outputs": [],
   "source": [
    "print(classification_report(y_test,y_pred))\n",
    "print(confusion_matrix(y_test,y_pred))"
   ]
  },
  {
   "cell_type": "markdown",
   "metadata": {},
   "source": [
    "# ★使用Keras自動編碼器給罕見事件分類\n",
    "\n",
    "說明：\n",
    "* 原理：以keras`全連接層自動編碼器`來構建`罕見事件分類器` \n",
    "* `編碼器(encoder)學習某一進程的隱含特性`。這些特性通常在一個降低的維度中。\n",
    "* 解碼器(decoder)可以根據這些隱含特性重新創建原始數據。\n",
    "* 評估reconstruction error,設定閾值\n",
    "\n",
    "參考：\n",
    "* 金融人才機器學習聯手出擊(P235)\n",
    "* https://ppfocus.com/0/hi049ee86.html\n",
    "* https://medium.com/@curiousily/credit-card-fraud-detection-using-autoencoders-in-keras-tensorflow-for-hackers-part-vii-20e0c85301bd"
   ]
  },
  {
   "cell_type": "markdown",
   "metadata": {},
   "source": [
    "## 建構自動編碼器(autoencoder)\n",
    "\n",
    "regularizers正規化(標準化)：\n",
    "* 權重的值等於0將導致該神經元無法發揮作用，正則化透過添加人為的限制，對過於激活的神經元進行懲罰，讓他的值向0靠攏\n",
    "*  你也可以對偏差或模型的輸出進行懲罰，你可以直接傳遞字串，或是引入Keras的regularizers模組，可以對預設值進行調整\n",
    "* 具體的使用方式如下，有三個可用的選項l1、l2、l1_l2，針對哪個地方用什麼方法進行懲罰，端看你的調整，沒有絕對。\n"
   ]
  },
  {
   "cell_type": "code",
   "execution_count": null,
   "metadata": {},
   "outputs": [],
   "source": [
    "%%time\n",
    "\n",
    "# 建立autoencoder\n",
    "\n",
    "import pandas as pd\n",
    "import numpy as np\n",
    "import pickle\n",
    "import matplotlib.pyplot as plt\n",
    "from scipy import stats\n",
    "import tensorflow as tf\n",
    "import seaborn as sns\n",
    "from pylab import rcParams\n",
    "from sklearn.model_selection import train_test_split\n",
    "from keras.models import Model, load_model  # 模型 \n",
    "from keras.layers import Input, Dense  # 神經網路層\n",
    "from keras.callbacks import ModelCheckpoint, TensorBoard\n",
    "from keras import regularizers #正規化、標準化(針對權重)\n",
    "from sklearn.metrics import (confusion_matrix, precision_recall_curve, auc,\n",
    "                             roc_curve, recall_score, classification_report, f1_score,\n",
    "                             precision_recall_fscore_support)\n",
    "\n",
    "\n",
    "\n",
    "input_dim = X_train1.shape[1] # 共42欄\n",
    "encoding_dim = 21  # encoder神經元個數可設為總欄位的一半 \n",
    "hidden_dim = int(encoding_dim / 2) # 隱含神經元個數\n",
    "learning_rate = 1e-5      # 學習率0.00001\n",
    "\n",
    "# 輸入層：42個欄位,　轉成TF的Tensor(張量)\n",
    "input_layer = Input(shape=(input_dim, ))\n",
    "\n",
    "# 加入encoder,使用L1來標準化權重\n",
    "encoder = Dense(encoding_dim, activation=\"tanh\", \n",
    "                activity_regularizer=regularizers.l1(learning_rate))(input_layer)\n",
    "\n",
    "#encoder = Dense(int(encoding_dim/2), activation=\"relu\")(encoder)\n",
    "\n",
    "\n",
    "# 加入decoder\n",
    "decoder = Dense(hidden_dim, activation='tanh')(encoder) # 書上寫encoded, decoded\n",
    "#decoder = Dense(input_dim, activation='relu')(decoder)\n",
    "\n",
    "\n",
    "# 執行autoencoder \n",
    "autoencoder = Model(inputs=input_layer, outputs=decoder)"
   ]
  },
  {
   "cell_type": "code",
   "execution_count": null,
   "metadata": {},
   "outputs": [],
   "source": [
    "print(input_dim)"
   ]
  },
  {
   "cell_type": "code",
   "execution_count": null,
   "metadata": {},
   "outputs": [],
   "source": [
    "print(input_layer)"
   ]
  },
  {
   "cell_type": "markdown",
   "metadata": {},
   "source": [
    "## Reconstruction Error\n",
    "\n",
    "* 上面的Autoencoders are trained to reduce reconstruction error."
   ]
  },
  {
   "cell_type": "code",
   "execution_count": null,
   "metadata": {},
   "outputs": [],
   "source": [
    "# 使用上面定義好的autoencoder來預測、計算mse誤差\n",
    "\n",
    "predictions = autoencoder.predict(X_test)\n",
    "\n",
    "mse = np.mean(np.power(X_test - predictions, 2), axis=1)\n",
    "df_error = pd.DataFrame({'reconstruction_error': mse,\n",
    "                        'true_test': y_test})\n",
    "df_error.describe()"
   ]
  },
  {
   "cell_type": "markdown",
   "metadata": {},
   "source": [
    "## recall和precision及閾值圖形觀察"
   ]
  },
  {
   "cell_type": "code",
   "execution_count": null,
   "metadata": {},
   "outputs": [],
   "source": [
    "# recall 和precision的觀察\n",
    "from sklearn.metrics import (confusion_matrix, precision_recall_curve, auc,\n",
    "                             roc_curve, recall_score, classification_report, f1_score,\n",
    "                             precision_recall_fscore_support)\n",
    "\n",
    "precision, recall, th = precision_recall_curve(df_error.true_test, df_error.reconstruction_error)\n",
    "plt.plot(recall, precision, 'b', label='Precision-Recall curve')\n",
    "plt.title('Recall vs Precision')\n",
    "plt.xlabel('Recall')\n",
    "plt.ylabel('Precision')\n",
    "plt.show()"
   ]
  },
  {
   "cell_type": "code",
   "execution_count": null,
   "metadata": {},
   "outputs": [],
   "source": [
    "#  X軸(不同閾值)時precison的變化\n",
    "\n",
    "plt.plot(th, precision[1:], 'b', label='Threshold-Precision curve')\n",
    "plt.title('Precision for different threshold values')\n",
    "plt.xlabel('Threshold')\n",
    "plt.ylabel('Precision')\n",
    "plt.show()"
   ]
  },
  {
   "cell_type": "code",
   "execution_count": null,
   "metadata": {},
   "outputs": [],
   "source": [
    "#  X軸(不同閾值)時recall率的變化\n",
    "\n",
    "plt.plot(th, recall[1:], 'b', label='Threshold-Recall curve')\n",
    "plt.title('Recall for different threshold values')\n",
    "plt.xlabel('threshold(Reconstruction error)')\n",
    "plt.ylabel('Recall')\n",
    "plt.show()"
   ]
  },
  {
   "cell_type": "code",
   "execution_count": null,
   "metadata": {},
   "outputs": [],
   "source": []
  },
  {
   "cell_type": "markdown",
   "metadata": {},
   "source": [
    "## 設定閾值(類似門檻值)\n",
    "\n",
    "* 觀察圖後，來設定閾值，減低誤報(偽陽)或減低偽陰。"
   ]
  },
  {
   "cell_type": "code",
   "execution_count": null,
   "metadata": {},
   "outputs": [],
   "source": [
    "# 設定閾值並畫圖\n",
    "\n",
    "set_threshold = 0.35 #\n",
    "groups = df_error.groupby('true_test')\n",
    "fig, ax = plt.subplots()\n",
    "\n",
    "for name, group in groups:\n",
    "    ax.plot(group.index, \n",
    "            group.reconstruction_error, \n",
    "            marker='o', \n",
    "            ms=3.5, \n",
    "            linestyle='',\n",
    "            label= \"違約\" if name == 1 else \"沒有違約\")\n",
    "    \n",
    "ax.hlines(set_threshold, \n",
    "          ax.get_xlim()[0], \n",
    "          ax.get_xlim()[1], \n",
    "          colors=\"r\", \n",
    "          zorder=100, \n",
    "          label='Threshold')\n",
    "\n",
    "ax.legend()\n",
    "plt.title(\"違約和非違約Reconstruction error分布情況\")\n",
    "plt.ylabel(\"重建錯誤\")\n",
    "plt.xlabel(\"資料的index\") # \n",
    "plt.show()"
   ]
  },
  {
   "cell_type": "code",
   "execution_count": null,
   "metadata": {},
   "outputs": [],
   "source": [
    "# 大於閾值的才設為1(違約)\n",
    "\n",
    "y_pred = [1 if e > set_threshold else 0 for e in df_error.reconstruction_error.values]\n",
    "\n",
    "print('Confusion_matrix:\\n',confusion_matrix(df_error.true_test, y_pred))"
   ]
  },
  {
   "cell_type": "code",
   "execution_count": null,
   "metadata": {},
   "outputs": [],
   "source": [
    "#print(classification_report(df_error.true_test,y_pred))\n",
    "\n",
    "print(classification_report(y_test,y_pred))"
   ]
  },
  {
   "cell_type": "code",
   "execution_count": null,
   "metadata": {},
   "outputs": [],
   "source": []
  },
  {
   "cell_type": "markdown",
   "metadata": {},
   "source": [
    "# SVM(支持向量機)"
   ]
  },
  {
   "cell_type": "markdown",
   "metadata": {},
   "source": [
    "## 訓練"
   ]
  },
  {
   "cell_type": "code",
   "execution_count": null,
   "metadata": {},
   "outputs": [],
   "source": [
    "# from sklearn import svm\n",
    "\n",
    "\n",
    "# clf = svm.SVC(kernel='rbf',probability=True, random_state=1)\n",
    "# clf.fit(X_train1, y_train1)\n",
    "# rst = clf.score(X_train1,y_train1)\n",
    "# print(\"訓練評分: %0.4f%% \" % (rst * 100))"
   ]
  },
  {
   "cell_type": "markdown",
   "metadata": {},
   "source": [
    "## 測試"
   ]
  },
  {
   "cell_type": "code",
   "execution_count": null,
   "metadata": {},
   "outputs": [],
   "source": [
    "# y_pred = clf.predict(X_test)\n",
    "# accuracy = accuracy_score(y_test, y_pred)\n",
    "\n",
    "# print(\"模型準確度(正確率, Accuracy): %0.4f%% \" % (accuracy * 100))\n",
    "# print(confusion_matrix(y_test,y_pred))\n",
    "# print(classification_report(y_test,y_pred))"
   ]
  },
  {
   "cell_type": "code",
   "execution_count": null,
   "metadata": {},
   "outputs": [],
   "source": [
    "# # 分類報告\n",
    " \n",
    "# from sklearn.metrics import classification_report, confusion_matrix\n",
    "# print(classification_report(y_test,y_pred))"
   ]
  },
  {
   "cell_type": "code",
   "execution_count": null,
   "metadata": {},
   "outputs": [],
   "source": [
    "# # 混淆矩陣\n",
    "\n",
    "# print(confusion_matrix(y_test,y_pred))"
   ]
  },
  {
   "cell_type": "markdown",
   "metadata": {},
   "source": [
    "## 門檻值"
   ]
  },
  {
   "cell_type": "code",
   "execution_count": null,
   "metadata": {},
   "outputs": [],
   "source": [
    "# from sklearn.metrics import mean_squared_error\n",
    "# from sklearn.metrics import mean_absolute_error\n",
    "# from math import sqrt\n",
    "# import numpy as np\n",
    "\n",
    "# MSE = mean_squared_error(y_test, y_pred)\n",
    "# print('MSE=',MSE)\n",
    "# RMSE =np.sqrt(MSE)\n",
    "# print('RMSE=',RMSE)\n",
    "# MAE= mean_absolute_error(y_test, y_pred)\n",
    "# print('MAE=',MAE)\n",
    "\n",
    "# R2=1-MSE/np.var(y_test)\n",
    "# print(\"R2:\", R2)\n"
   ]
  },
  {
   "cell_type": "code",
   "execution_count": null,
   "metadata": {},
   "outputs": [],
   "source": [
    "# ytest = []\n",
    "# for value in y_test:\n",
    "#     ytest.append(value)\n",
    "# count=0\n",
    "# errvalue=abs((ytest-y_pred)/ytest)\n",
    "# errvalue"
   ]
  },
  {
   "cell_type": "code",
   "execution_count": null,
   "metadata": {},
   "outputs": [],
   "source": [
    "# threshold=0.01  #門檻值\n",
    "# for i in range(len(errvalue)):\n",
    "#     if errvalue[i]<0.01:           \n",
    "#         count=count+1\n",
    "# print(\"通過門檻筆數\",count)\n",
    "# print(\"通過門檻百分比\",count/len(errvalue))"
   ]
  },
  {
   "cell_type": "code",
   "execution_count": null,
   "metadata": {},
   "outputs": [],
   "source": []
  },
  {
   "cell_type": "markdown",
   "metadata": {},
   "source": [
    "# 集成式學習"
   ]
  },
  {
   "cell_type": "markdown",
   "metadata": {},
   "source": [
    "## 投票法"
   ]
  },
  {
   "cell_type": "code",
   "execution_count": 12,
   "metadata": {},
   "outputs": [
    {
     "name": "stdout",
     "output_type": "stream",
     "text": [
      "0.6983371501912623\n",
      "0.6954437100444252\n",
      "Classifier report:\n",
      "               precision    recall  f1-score   support\n",
      "\n",
      "           0       0.96      0.70      0.81     68051\n",
      "           1       0.16      0.66      0.25      5781\n",
      "\n",
      "    accuracy                           0.70     73832\n",
      "   macro avg       0.56      0.68      0.53     73832\n",
      "weighted avg       0.90      0.70      0.77     73832\n",
      "\n",
      "Confusion matrix:\n",
      " [[47503 20548]\n",
      " [ 1938  3843]]\n"
     ]
    }
   ],
   "source": [
    "# 各種模型  XGBClassifier, RandomForestClassifier, DecisionTreeClassifier, LGBMClassifier, \n",
    "# 各種模型：KNeighborsClassifier(KNN), MLPClassifier(DNN) , GaussianNB, CatBoostClassifier,AdaBoostClassifier\n",
    "\n",
    "from sklearn.model_selection import train_test_split\n",
    "from sklearn.ensemble import VotingClassifier\n",
    "from sklearn.neural_network import MLPClassifier\n",
    "from sklearn.metrics import roc_auc_score, average_precision_score\n",
    "from sklearn.metrics import classification_report,precision_recall_curve\n",
    "from sklearn.metrics import confusion_matrix, plot_precision_recall_curve\n",
    "\n",
    "clf1 = XGBClassifier(learning_rate=0.1, n_estimators=550, max_depth=4, min_child_weight=5, seed=0,  subsample=0.7, colsample_bytree=0.7, gamma=0.1, reg_alpha=1, reg_lambda=1)\n",
    "clf2 = GaussianNB()\n",
    "clf3 = LGBMClassifier()\n",
    "\n",
    "ensemble_model = VotingClassifier(estimators=[('XGB', clf1), ('Gnb', clf2), ('LGBM', clf3)], voting='soft')\n",
    "ensemble_model.fit(X_train1,y_train1)\n",
    "y_predicted = ensemble_model.predict(X_test)\n",
    "\n",
    "print(ensemble_model.score(X_train1,y_train1))\n",
    "print(ensemble_model.score(X_test,y_test))\n",
    "print('Classifier report:\\n',classification_report(y_test,y_predicted))\n",
    "print('Confusion matrix:\\n',confusion_matrix(y_test,y_predicted))"
   ]
  },
  {
   "cell_type": "code",
   "execution_count": 14,
   "metadata": {},
   "outputs": [
    {
     "name": "stdout",
     "output_type": "stream",
     "text": [
      "0.7280268522246829\n",
      "0.7169519991331672\n",
      "Classifier report:\n",
      "               precision    recall  f1-score   support\n",
      "\n",
      "           0       0.96      0.72      0.82     68051\n",
      "           1       0.17      0.66      0.27      5781\n",
      "\n",
      "    accuracy                           0.72     73832\n",
      "   macro avg       0.56      0.69      0.55     73832\n",
      "weighted avg       0.90      0.72      0.78     73832\n",
      "\n",
      "Confusion matrix:\n",
      " [[49147 18904]\n",
      " [ 1994  3787]]\n"
     ]
    }
   ],
   "source": [
    "# 調整權重\n",
    "\n",
    "ensemble_model = VotingClassifier(estimators=[('XGB', clf1), ('Gnb', clf2), ('LGBM', clf3)], \n",
    "                                  voting='soft', \n",
    "                                  weights=[10, 1, 1], \n",
    "                                  flatten_transform=True)\n",
    "\n",
    "ensemble_model.fit(X_train1,y_train1)\n",
    "y_predicted = ensemble_model.predict(X_test)\n",
    "\n",
    "print(ensemble_model.score(X_train1,y_train1))\n",
    "print(ensemble_model.score(X_test,y_test))\n",
    "print('Classifier report:\\n',classification_report(y_test,y_predicted))\n",
    "print('Confusion matrix:\\n',confusion_matrix(y_test,y_predicted))"
   ]
  },
  {
   "cell_type": "code",
   "execution_count": 36,
   "metadata": {},
   "outputs": [
    {
     "data": {
      "text/plain": [
       "[XGBClassifier(base_score=0.5, booster='gbtree', callbacks=None,\n",
       "               colsample_bylevel=1, colsample_bynode=1, colsample_bytree=1,\n",
       "               early_stopping_rounds=None, enable_categorical=False,\n",
       "               eval_metric=None, gamma=0, gpu_id=-1, grow_policy='depthwise',\n",
       "               importance_type=None, interaction_constraints='',\n",
       "               learning_rate=0.300000012, max_bin=256, max_cat_to_onehot=4,\n",
       "               max_delta_step=0, max_depth=6, max_leaves=0, min_child_weight=1,\n",
       "               missing=nan, monotone_constraints='()', n_estimators=100,\n",
       "               n_jobs=0, num_parallel_tree=1, predictor='auto', random_state=0,\n",
       "               reg_alpha=0, reg_lambda=1, ...),\n",
       " GaussianNB(),\n",
       " LGBMClassifier()]"
      ]
     },
     "execution_count": 36,
     "metadata": {},
     "output_type": "execute_result"
    }
   ],
   "source": [
    "ensemble_model.estimators_"
   ]
  },
  {
   "cell_type": "code",
   "execution_count": null,
   "metadata": {},
   "outputs": [],
   "source": []
  },
  {
   "cell_type": "markdown",
   "metadata": {},
   "source": [
    "# 測試區"
   ]
  },
  {
   "cell_type": "markdown",
   "metadata": {},
   "source": [
    "## KMeans Clustering分群"
   ]
  },
  {
   "cell_type": "code",
   "execution_count": null,
   "metadata": {},
   "outputs": [],
   "source": [
    "# # Prepare unlabeled train and test dataset\n",
    "\n",
    "# from sklearn.model_selection import train_test_split\n",
    "# from sklearn.preprocessing import normalize\n",
    "\n",
    "# # Split the data into train set and test set\n",
    "# train,test = train_test_split(df,test_size=0.3,random_state=1)\n",
    "\n",
    "# # Get the arrays of features and labels in train dataset\n",
    "# features_train = train.drop(['Time','Class'],axis=1)\n",
    "# features_train = features_train.values\n",
    "# labels_train = pd.DataFrame(train[['Class']])\n",
    "# labels_train = labels_train.values\n",
    "\n",
    "# # Get the arrays of features and labels in test dataset\n",
    "# features_test = test.drop(['Time','Class'],axis=1)\n",
    "# features_test = features_test.values\n",
    "# labels_test = pd.DataFrame(test[[\"Class\"]])\n",
    "# labels_test = labels_test.values\n",
    "\n",
    "# # Normalize the features in both train and test dataset\n",
    "# features_train = normalize(features_train)\n",
    "# features_test = normalize(features_test)"
   ]
  },
  {
   "cell_type": "code",
   "execution_count": null,
   "metadata": {},
   "outputs": [],
   "source": [
    "# # build the model\n",
    "\n",
    "# from sklearn.cluster import KMeans\n",
    "# from sklearn.metrics import confusion_matrix\n",
    "\n",
    "# model = KMeans(n_clusters=2,random_state=1)\n",
    "# model.fit(features_train)\n",
    "# labels_train_predicted = model.predict(features_train)\n",
    "# labels_test_predicted = model.predict(features_test)\n",
    "\n",
    "# # Decide if model predicted label is aligned with true label \n",
    "# true_negative,false_positive,false_negative,true_positive = confusion_matrix(labels_train,labels_train_predicted).ravel()\n",
    "# reassignflag = true_negative + true_positive < false_positive + false_negative\n",
    "# print(reassignflag)\n",
    "\n",
    "\n",
    "# labels_test_predicted = 1- labels_test_predicted"
   ]
  },
  {
   "cell_type": "code",
   "execution_count": null,
   "metadata": {},
   "outputs": [],
   "source": []
  },
  {
   "cell_type": "code",
   "execution_count": null,
   "metadata": {},
   "outputs": [],
   "source": []
  },
  {
   "cell_type": "code",
   "execution_count": null,
   "metadata": {},
   "outputs": [],
   "source": []
  },
  {
   "cell_type": "code",
   "execution_count": null,
   "metadata": {},
   "outputs": [],
   "source": [
    "# 數量只有個位數或十位數的類別資料：\n",
    "\n",
    "# CODE_GENDER → XNA(4)\n",
    "# NAME_INCOME_TYPE → Unemployed(22), Student(18), Businessman(10), Maternity leave(5)\n",
    "# NAME_FAMILY_STATUS → Unkwown(2)\n",
    "# ORGANIZATION_TYPE → Religion(85), Industry: type 13(67), Trade: type 4(64), Trade: type 5(49), Industry: type 8(24)"
   ]
  },
  {
   "cell_type": "code",
   "execution_count": null,
   "metadata": {},
   "outputs": [],
   "source": []
  }
 ],
 "metadata": {
  "kernelspec": {
   "display_name": "vPy3.8_TF28cpu",
   "language": "python",
   "name": "vpy38"
  },
  "language_info": {
   "codemirror_mode": {
    "name": "ipython",
    "version": 3
   },
   "file_extension": ".py",
   "mimetype": "text/x-python",
   "name": "python",
   "nbconvert_exporter": "python",
   "pygments_lexer": "ipython3",
   "version": "3.8.10"
  },
  "toc": {
   "base_numbering": 1,
   "nav_menu": {},
   "number_sections": true,
   "sideBar": true,
   "skip_h1_title": false,
   "title_cell": "Table of Contents",
   "title_sidebar": "Contents",
   "toc_cell": false,
   "toc_position": {
    "height": "calc(100% - 180px)",
    "left": "10px",
    "top": "150px",
    "width": "279.25px"
   },
   "toc_section_display": true,
   "toc_window_display": true
  }
 },
 "nbformat": 4,
 "nbformat_minor": 4
}
